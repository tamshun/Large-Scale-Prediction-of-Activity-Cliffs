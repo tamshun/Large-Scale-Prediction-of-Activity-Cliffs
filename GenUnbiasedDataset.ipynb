{
 "cells": [
  {
   "cell_type": "code",
   "execution_count": 1,
   "metadata": {},
   "outputs": [],
   "source": [
    "import pandas as pd\n",
    "import numpy as np"
   ]
  },
  {
   "cell_type": "code",
   "execution_count": 8,
   "metadata": {},
   "outputs": [
    {
     "data": {
      "text/plain": [
       "Index(['CHEMBL244', 'CHEMBL204', 'CHEMBL205', 'CHEMBL3594', 'CHEMBL261',\n",
       "       'CHEMBL264', 'CHEMBL3242', 'CHEMBL253', 'CHEMBL217', 'CHEMBL3837'],\n",
       "      dtype='object', name='chembl_tid')"
      ]
     },
     "execution_count": 8,
     "metadata": {},
     "output_type": "execute_result"
    }
   ],
   "source": [
    "target_list = pd.read_csv('./Dataset/target_list.tsv', sep='\\t', index_col='chembl_tid')\n",
    "target_list['#AC'] = False\n",
    "\n",
    "for tid in target_list.index :\n",
    "    data = pd.read_csv('./Dataset/Data/%s.tsv' %tid, sep='\\t', index_col=0)\n",
    "    nac = data[data['class']==1].shape[0]\n",
    "    target_list.loc[tid, '#AC'] = nac\n",
    "\n",
    "target_list.sort_values('#AC', ascending=False).head(10).index"
   ]
  },
  {
   "cell_type": "code",
   "execution_count": null,
   "metadata": {},
   "outputs": [],
   "source": [
    "\n",
    "\n"
   ]
  }
 ],
 "metadata": {
  "interpreter": {
   "hash": "fb5768cf1fa8b6342377f1e0a16a7f0a51a333915102063af4fd5352b3f8a878"
  },
  "kernelspec": {
   "display_name": "Python 3.6.13 64-bit (conda)",
   "language": "python",
   "name": "python3"
  },
  "language_info": {
   "codemirror_mode": {
    "name": "ipython",
    "version": 3
   },
   "file_extension": ".py",
   "mimetype": "text/x-python",
   "name": "python",
   "nbconvert_exporter": "python",
   "pygments_lexer": "ipython3",
   "version": "3.6.13"
  },
  "orig_nbformat": 4
 },
 "nbformat": 4,
 "nbformat_minor": 2
}

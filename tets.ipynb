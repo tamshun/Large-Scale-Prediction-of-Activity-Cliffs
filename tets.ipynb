{
 "cells": [
  {
   "cell_type": "code",
   "execution_count": 1,
   "metadata": {},
   "outputs": [],
   "source": [
    "import pandas as pd\n",
    "import numpy as np\n",
    "from collections import defaultdict\n",
    "from openeye.oechem import *\n",
    "from chem.transform import SmilesToOEGraphMol, SmartsToOEGraphMol\n",
    "from Fingerprint.ECFP4 import CalcECFPSparse_tracker, ConvertAnnotationsIntoStr"
   ]
  },
  {
   "cell_type": "code",
   "execution_count": 2,
   "metadata": {},
   "outputs": [],
   "source": [
    "target = 'melanocortin_receptor_4'\n",
    "data = pd.read_csv('./Dataset/Data/melanocortin_receptor_4.tsv', sep='\\t', index_col=0)\n",
    "df = pd.read_csv('./Dataset/ECFP/%s.tsv' %target, sep='\\t', index_col=0)\n",
    "df_row = pd.read_csv('./Dataset/ECFP/melanocortin_receptor_4_wosubdiff.tsv', sep='\\t', index_col=0)"
   ]
  },
  {
   "cell_type": "code",
   "execution_count": 3,
   "metadata": {},
   "outputs": [],
   "source": [
    "smi1 = data['sub1'].iloc[0]\n",
    "mol1 = SmilesToOEGraphMol(smi1)\n",
    "smi2 = data['sub2'].iloc[0]\n",
    "mol2 = SmilesToOEGraphMol(smi2)"
   ]
  },
  {
   "cell_type": "code",
   "execution_count": 4,
   "metadata": {},
   "outputs": [
    {
     "name": "stderr",
     "output_type": "stream",
     "text": [
      "/home/tamuras0/PYTHON_LIBRARY/myfuncs/Fingerprint/ecfpSmartsStandAlone.py:50: RuntimeWarning: overflow encountered in long_scalars\n",
      "  value = (mult*value) ^ Int(ord(char))\n",
      "/home/tamuras0/PYTHON_LIBRARY/myfuncs/Fingerprint/ecfpSmartsStandAlone.py:63: RuntimeWarning: overflow encountered in long_scalars\n",
      "  value = mult*(value ^ myHashLong(item))\n"
     ]
    }
   ],
   "source": [
    "anno1f = CalcECFPSparse_tracker(mol1, diameter=4, nbits='unfold', pos=1)\n",
    "str_hashf, str_pidxf, str_patf, str_smif = ConvertAnnotationsIntoStr(anno1f, is_folded=False)\n",
    "\n",
    "anno1f = CalcECFPSparse_tracker(mol1, diameter=4, nbits='unfold', pos=2)\n",
    "str_hashr, str_pidxr, str_patr, str_smir = ConvertAnnotationsIntoStr(anno1f, is_folded=False)"
   ]
  },
  {
   "cell_type": "code",
   "execution_count": 5,
   "metadata": {},
   "outputs": [
    {
     "data": {
      "text/plain": [
       "['[R1]',\n",
       " '[C]',\n",
       " '[CH]',\n",
       " '[CH2]',\n",
       " '[N]',\n",
       " '[C]',\n",
       " '[O]',\n",
       " '[CH3]',\n",
       " '[R1][C]',\n",
       " '[R1]C(=[C])[CH]',\n",
       " '[CH]=C[C]',\n",
       " '[CH]=C[CH]',\n",
       " '[CH2]C(=[CH])[C]',\n",
       " '[CH2]C(=[C])[C]',\n",
       " '[C]C[N]',\n",
       " '[CH2]N([CH2])[C]',\n",
       " '[CH2]C[N]',\n",
       " '[CH2]C[C]',\n",
       " 'CC(=O)[N]',\n",
       " '[C]=O',\n",
       " 'C[C]',\n",
       " '[R1]C(=C([CH2])[C])C=[CH]',\n",
       " '[R1]C(=[C])C=C[CH]',\n",
       " '[C]=CC=C[C]',\n",
       " '[CH2]C(=CC=[CH])[C]',\n",
       " '[CH2]CC(=C[CH])C(=[C])[CH2]',\n",
       " '[R1]C(=C(C[N])C(=[CH])[CH2])[CH]',\n",
       " '[CH2]N([C])CC(=[C])[C]',\n",
       " 'CC(=O)N(C[CH2])C[C]',\n",
       " '[CH2]N([C])CC[C]',\n",
       " '[CH]=C([C])CC[N]',\n",
       " 'CC(=O)N([CH2])[CH2]']"
      ]
     },
     "execution_count": 5,
     "metadata": {},
     "output_type": "execute_result"
    }
   ],
   "source": [
    "str_smif.split(' ')"
   ]
  },
  {
   "cell_type": "code",
   "execution_count": 6,
   "metadata": {},
   "outputs": [
    {
     "data": {
      "text/plain": [
       "['[R1]',\n",
       " '[C]',\n",
       " '[CH]',\n",
       " '[CH2]',\n",
       " '[N]',\n",
       " '[C]',\n",
       " '[O]',\n",
       " '[CH3]',\n",
       " '[R1][C]',\n",
       " '[R1]C(=[C])[CH]',\n",
       " '[CH]=C[C]',\n",
       " '[CH]=C[CH]',\n",
       " '[CH2]C(=[CH])[C]',\n",
       " '[CH2]C(=[C])[C]',\n",
       " '[C]C[N]',\n",
       " '[CH2]N([CH2])[C]',\n",
       " '[CH2]C[N]',\n",
       " '[CH2]C[C]',\n",
       " 'CC(=O)[N]',\n",
       " '[C]=O',\n",
       " 'C[C]',\n",
       " '[R1]C(=C([CH2])[C])C=[CH]',\n",
       " '[R1]C(=[C])C=C[CH]',\n",
       " '[C]=CC=C[C]',\n",
       " '[CH2]C(=CC=[CH])[C]',\n",
       " '[CH2]CC(=C[CH])C(=[C])[CH2]',\n",
       " '[R1]C(=C(C[N])C(=[CH])[CH2])[CH]',\n",
       " '[CH2]N([C])CC(=[C])[C]',\n",
       " 'CC(=O)N(C[CH2])C[C]',\n",
       " '[CH2]N([C])CC[C]',\n",
       " '[CH]=C([C])CC[N]',\n",
       " 'CC(=O)N([CH2])[CH2]']"
      ]
     },
     "execution_count": 6,
     "metadata": {},
     "output_type": "execute_result"
    }
   ],
   "source": [
    "str_smir.split(' ')"
   ]
  },
  {
   "cell_type": "code",
   "execution_count": 7,
   "metadata": {},
   "outputs": [
    {
     "data": {
      "text/plain": [
       "False"
      ]
     },
     "execution_count": 7,
     "metadata": {},
     "output_type": "execute_result"
    }
   ],
   "source": [
    "str_patf==str_patr"
   ]
  },
  {
   "cell_type": "code",
   "execution_count": 8,
   "metadata": {},
   "outputs": [
    {
     "data": {
      "text/plain": [
       "array([ True])"
      ]
     },
     "execution_count": 8,
     "metadata": {},
     "output_type": "execute_result"
    }
   ],
   "source": [
    "np.unique(df_row['sub2_smi_forward']==df_row['sub2_smi_reverse'])"
   ]
  },
  {
   "cell_type": "code",
   "execution_count": 9,
   "metadata": {},
   "outputs": [
    {
     "data": {
      "text/plain": [
       "'[R1]c1cccc2c1CN(CC2)C(=O)C'"
      ]
     },
     "execution_count": 9,
     "metadata": {},
     "output_type": "execute_result"
    }
   ],
   "source": [
    "smi1"
   ]
  },
  {
   "cell_type": "code",
   "execution_count": 10,
   "metadata": {},
   "outputs": [
    {
     "data": {
      "text/plain": [
       "(1418,)"
      ]
     },
     "execution_count": 10,
     "metadata": {},
     "output_type": "execute_result"
    }
   ],
   "source": [
    "np.unique(df_row['sub2_forward'].apply(lambda x: x.split(' ')).sum()).shape"
   ]
  },
  {
   "cell_type": "code",
   "execution_count": 11,
   "metadata": {},
   "outputs": [
    {
     "data": {
      "text/plain": [
       "(1419,)"
      ]
     },
     "execution_count": 11,
     "metadata": {},
     "output_type": "execute_result"
    }
   ],
   "source": [
    "np.unique(df_row['sub2_reverse'].apply(lambda x: x.split(' ')).sum()).shape"
   ]
  },
  {
   "cell_type": "code",
   "execution_count": 12,
   "metadata": {},
   "outputs": [
    {
     "data": {
      "text/plain": [
       "(1266,)"
      ]
     },
     "execution_count": 12,
     "metadata": {},
     "output_type": "execute_result"
    }
   ],
   "source": [
    "np.unique(df_row['sub2_smi_forward'].apply(lambda x: x.split(' ')).sum()).shape"
   ]
  },
  {
   "cell_type": "code",
   "execution_count": 13,
   "metadata": {},
   "outputs": [
    {
     "data": {
      "text/plain": [
       "(1266,)"
      ]
     },
     "execution_count": 13,
     "metadata": {},
     "output_type": "execute_result"
    }
   ],
   "source": [
    "np.unique(df_row['sub2_smi_reverse'].apply(lambda x: x.split(' ')).sum()).shape"
   ]
  },
  {
   "cell_type": "code",
   "execution_count": 14,
   "metadata": {},
   "outputs": [],
   "source": [
    "bitf = df_row['sub2_forward'].apply(lambda x: x.split(' ')).sum()\n",
    "bitr = df_row['sub2_reverse'].apply(lambda x: x.split(' ')).sum()\n",
    "\n",
    "smif = df_row['sub2_smi_forward'].apply(lambda x: x.split(' ')).sum()\n",
    "smir = df_row['sub2_smi_reverse'].apply(lambda x: x.split(' ')).sum()"
   ]
  },
  {
   "cell_type": "code",
   "execution_count": 15,
   "metadata": {},
   "outputs": [],
   "source": [
    "d={1:defaultdict(list), 2:defaultdict(list)}\n",
    "\n",
    "for bit, smi in zip(bitf, smif):\n",
    "    d[1][smi].append(bit)\n",
    "    \n",
    "for bit, smi in zip(bitr, smir):\n",
    "    d[2][smi].append(bit)\n",
    "\n",
    "count = pd.DataFrame.from_dict(d)"
   ]
  },
  {
   "cell_type": "code",
   "execution_count": 16,
   "metadata": {},
   "outputs": [],
   "source": [
    "df_count = count.applymap(lambda x:len(x))"
   ]
  },
  {
   "cell_type": "code",
   "execution_count": 17,
   "metadata": {},
   "outputs": [],
   "source": [
    "df_count['bool'] = (df_count[1]-df_count[2])==0"
   ]
  },
  {
   "cell_type": "code",
   "execution_count": 18,
   "metadata": {},
   "outputs": [],
   "source": [
    "count = count.applymap(lambda x: list(np.unique([int(i) for i in x])))"
   ]
  },
  {
   "cell_type": "code",
   "execution_count": 19,
   "metadata": {},
   "outputs": [],
   "source": [
    "count['#1'] = count[1].apply(lambda x: len(x))\n",
    "count['#2'] = count[2].apply(lambda x: len(x))\n",
    "count['bool'] = count['#1'] - count['#2']"
   ]
  },
  {
   "cell_type": "code",
   "execution_count": 20,
   "metadata": {},
   "outputs": [],
   "source": [
    "count.to_csv('./count.csv')"
   ]
  },
  {
   "cell_type": "code",
   "execution_count": 21,
   "metadata": {},
   "outputs": [
    {
     "data": {
      "text/html": [
       "<div>\n",
       "<style scoped>\n",
       "    .dataframe tbody tr th:only-of-type {\n",
       "        vertical-align: middle;\n",
       "    }\n",
       "\n",
       "    .dataframe tbody tr th {\n",
       "        vertical-align: top;\n",
       "    }\n",
       "\n",
       "    .dataframe thead th {\n",
       "        text-align: right;\n",
       "    }\n",
       "</style>\n",
       "<table border=\"1\" class=\"dataframe\">\n",
       "  <thead>\n",
       "    <tr style=\"text-align: right;\">\n",
       "      <th></th>\n",
       "      <th>1</th>\n",
       "      <th>2</th>\n",
       "      <th>#1</th>\n",
       "      <th>#2</th>\n",
       "      <th>bool</th>\n",
       "    </tr>\n",
       "  </thead>\n",
       "  <tbody>\n",
       "  </tbody>\n",
       "</table>\n",
       "</div>"
      ],
      "text/plain": [
       "Empty DataFrame\n",
       "Columns: [1, 2, #1, #2, bool]\n",
       "Index: []"
      ]
     },
     "execution_count": 21,
     "metadata": {},
     "output_type": "execute_result"
    }
   ],
   "source": [
    "count[count['bool']!=0]"
   ]
  },
  {
   "cell_type": "code",
   "execution_count": 22,
   "metadata": {},
   "outputs": [
    {
     "data": {
      "text/plain": [
       "1499"
      ]
     },
     "execution_count": 22,
     "metadata": {},
     "output_type": "execute_result"
    }
   ],
   "source": [
    "count['#2'].sum()"
   ]
  },
  {
   "cell_type": "code",
   "execution_count": 23,
   "metadata": {},
   "outputs": [
    {
     "data": {
      "text/html": [
       "<div>\n",
       "<style scoped>\n",
       "    .dataframe tbody tr th:only-of-type {\n",
       "        vertical-align: middle;\n",
       "    }\n",
       "\n",
       "    .dataframe tbody tr th {\n",
       "        vertical-align: top;\n",
       "    }\n",
       "\n",
       "    .dataframe thead th {\n",
       "        text-align: right;\n",
       "    }\n",
       "</style>\n",
       "<table border=\"1\" class=\"dataframe\">\n",
       "  <thead>\n",
       "    <tr style=\"text-align: right;\">\n",
       "      <th></th>\n",
       "      <th>1</th>\n",
       "      <th>2</th>\n",
       "      <th>#1</th>\n",
       "      <th>#2</th>\n",
       "      <th>bool</th>\n",
       "    </tr>\n",
       "  </thead>\n",
       "  <tbody>\n",
       "    <tr>\n",
       "      <th>[R1]</th>\n",
       "      <td>[-1704794629]</td>\n",
       "      <td>[-1704794632]</td>\n",
       "      <td>1</td>\n",
       "      <td>1</td>\n",
       "      <td>0</td>\n",
       "    </tr>\n",
       "    <tr>\n",
       "      <th>[C]</th>\n",
       "      <td>[965199744, 966199747, 1827616958, 1828616945]</td>\n",
       "      <td>[965199747, 966199744, 1827616957, 1828616946]</td>\n",
       "      <td>4</td>\n",
       "      <td>4</td>\n",
       "      <td>0</td>\n",
       "    </tr>\n",
       "    <tr>\n",
       "      <th>[CH]</th>\n",
       "      <td>[1942913796, 1943913799, 2113710432, 2114710435]</td>\n",
       "      <td>[1942913799, 1943913796, 2113710435, 2114710432]</td>\n",
       "      <td>4</td>\n",
       "      <td>4</td>\n",
       "      <td>0</td>\n",
       "    </tr>\n",
       "    <tr>\n",
       "      <th>[CH2]</th>\n",
       "      <td>[1457709166, 1987549200, 1988549203]</td>\n",
       "      <td>[1457709165, 1987549203, 1988549200]</td>\n",
       "      <td>3</td>\n",
       "      <td>3</td>\n",
       "      <td>0</td>\n",
       "    </tr>\n",
       "    <tr>\n",
       "      <th>[N]</th>\n",
       "      <td>[-80336274, -79336287, 2112315142, 2113315257]</td>\n",
       "      <td>[-80336275, -79336286, 2112315141, 2113315258]</td>\n",
       "      <td>4</td>\n",
       "      <td>4</td>\n",
       "      <td>0</td>\n",
       "    </tr>\n",
       "    <tr>\n",
       "      <th>...</th>\n",
       "      <td>...</td>\n",
       "      <td>...</td>\n",
       "      <td>...</td>\n",
       "      <td>...</td>\n",
       "      <td>...</td>\n",
       "    </tr>\n",
       "    <tr>\n",
       "      <th>[CH2]C=[N]</th>\n",
       "      <td>[-566514575]</td>\n",
       "      <td>[-482680872]</td>\n",
       "      <td>1</td>\n",
       "      <td>1</td>\n",
       "      <td>0</td>\n",
       "    </tr>\n",
       "    <tr>\n",
       "      <th>[R1]CC=[N]</th>\n",
       "      <td>[-525561444]</td>\n",
       "      <td>[669029778]</td>\n",
       "      <td>1</td>\n",
       "      <td>1</td>\n",
       "      <td>0</td>\n",
       "    </tr>\n",
       "    <tr>\n",
       "      <th>[R1]CC=N[NH]</th>\n",
       "      <td>[-900547723]</td>\n",
       "      <td>[-1619324806]</td>\n",
       "      <td>1</td>\n",
       "      <td>1</td>\n",
       "      <td>0</td>\n",
       "    </tr>\n",
       "    <tr>\n",
       "      <th>[CH2]C=NN[C]</th>\n",
       "      <td>[723861848]</td>\n",
       "      <td>[145422003]</td>\n",
       "      <td>1</td>\n",
       "      <td>1</td>\n",
       "      <td>0</td>\n",
       "    </tr>\n",
       "    <tr>\n",
       "      <th>[R1]CCC</th>\n",
       "      <td>[-2023247877]</td>\n",
       "      <td>[299120862]</td>\n",
       "      <td>1</td>\n",
       "      <td>1</td>\n",
       "      <td>0</td>\n",
       "    </tr>\n",
       "  </tbody>\n",
       "</table>\n",
       "<p>1266 rows × 5 columns</p>\n",
       "</div>"
      ],
      "text/plain": [
       "                                                             1  \\\n",
       "[R1]                                             [-1704794629]   \n",
       "[C]             [965199744, 966199747, 1827616958, 1828616945]   \n",
       "[CH]          [1942913796, 1943913799, 2113710432, 2114710435]   \n",
       "[CH2]                     [1457709166, 1987549200, 1988549203]   \n",
       "[N]             [-80336274, -79336287, 2112315142, 2113315257]   \n",
       "...                                                        ...   \n",
       "[CH2]C=[N]                                        [-566514575]   \n",
       "[R1]CC=[N]                                        [-525561444]   \n",
       "[R1]CC=N[NH]                                      [-900547723]   \n",
       "[CH2]C=NN[C]                                       [723861848]   \n",
       "[R1]CCC                                          [-2023247877]   \n",
       "\n",
       "                                                             2  #1  #2  bool  \n",
       "[R1]                                             [-1704794632]   1   1     0  \n",
       "[C]             [965199747, 966199744, 1827616957, 1828616946]   4   4     0  \n",
       "[CH]          [1942913799, 1943913796, 2113710435, 2114710432]   4   4     0  \n",
       "[CH2]                     [1457709165, 1987549203, 1988549200]   3   3     0  \n",
       "[N]             [-80336275, -79336286, 2112315141, 2113315258]   4   4     0  \n",
       "...                                                        ...  ..  ..   ...  \n",
       "[CH2]C=[N]                                        [-482680872]   1   1     0  \n",
       "[R1]CC=[N]                                         [669029778]   1   1     0  \n",
       "[R1]CC=N[NH]                                     [-1619324806]   1   1     0  \n",
       "[CH2]C=NN[C]                                       [145422003]   1   1     0  \n",
       "[R1]CCC                                            [299120862]   1   1     0  \n",
       "\n",
       "[1266 rows x 5 columns]"
      ]
     },
     "execution_count": 23,
     "metadata": {},
     "output_type": "execute_result"
    }
   ],
   "source": [
    "count"
   ]
  },
  {
   "cell_type": "code",
   "execution_count": 24,
   "metadata": {},
   "outputs": [
    {
     "data": {
      "text/plain": [
       "1499"
      ]
     },
     "execution_count": 24,
     "metadata": {},
     "output_type": "execute_result"
    }
   ],
   "source": [
    "len(count[1].sum())"
   ]
  },
  {
   "cell_type": "code",
   "execution_count": 26,
   "metadata": {},
   "outputs": [
    {
     "data": {
      "text/plain": [
       "(1418,)"
      ]
     },
     "execution_count": 26,
     "metadata": {},
     "output_type": "execute_result"
    }
   ],
   "source": [
    "np.unique(count[1].sum()).shape"
   ]
  },
  {
   "cell_type": "code",
   "execution_count": 27,
   "metadata": {},
   "outputs": [],
   "source": [
    "d={1:defaultdict(list), 2:defaultdict(list)}\n",
    "\n",
    "for bit, smi in zip(bitf, smif):\n",
    "    d[1][int(bit)].append(smi)\n",
    "    \n",
    "for bit, smi in zip(bitr, smir):\n",
    "    d[2][int(bit)].append(smi)\n",
    "\n",
    "count = pd.DataFrame.from_dict(d)"
   ]
  },
  {
   "cell_type": "code",
   "execution_count": 31,
   "metadata": {},
   "outputs": [],
   "source": [
    "count = count.applymap(lambda x:np.unique(x))"
   ]
  },
  {
   "cell_type": "code",
   "execution_count": 35,
   "metadata": {},
   "outputs": [],
   "source": [
    "count[3] = count[1].apply(lambda x: x.shape[0])\n",
    "count[4] = count[2].apply(lambda x: x.shape[0])\n",
    "count[5] = count[3]>1\n",
    "count[6] = count[4]>1\n",
    "count[7] = count[5] + count[6]"
   ]
  },
  {
   "cell_type": "code",
   "execution_count": 36,
   "metadata": {},
   "outputs": [
    {
     "data": {
      "text/html": [
       "<div>\n",
       "<style scoped>\n",
       "    .dataframe tbody tr th:only-of-type {\n",
       "        vertical-align: middle;\n",
       "    }\n",
       "\n",
       "    .dataframe tbody tr th {\n",
       "        vertical-align: top;\n",
       "    }\n",
       "\n",
       "    .dataframe thead th {\n",
       "        text-align: right;\n",
       "    }\n",
       "</style>\n",
       "<table border=\"1\" class=\"dataframe\">\n",
       "  <thead>\n",
       "    <tr style=\"text-align: right;\">\n",
       "      <th></th>\n",
       "      <th>1</th>\n",
       "      <th>2</th>\n",
       "      <th>3</th>\n",
       "      <th>4</th>\n",
       "      <th>5</th>\n",
       "      <th>6</th>\n",
       "      <th>7</th>\n",
       "    </tr>\n",
       "  </thead>\n",
       "  <tbody>\n",
       "    <tr>\n",
       "      <th>-1704794629</th>\n",
       "      <td>[[R1]]</td>\n",
       "      <td>[nan]</td>\n",
       "      <td>1</td>\n",
       "      <td>1</td>\n",
       "      <td>False</td>\n",
       "      <td>False</td>\n",
       "      <td>False</td>\n",
       "    </tr>\n",
       "    <tr>\n",
       "      <th>966199747</th>\n",
       "      <td>[[C]]</td>\n",
       "      <td>[nan]</td>\n",
       "      <td>1</td>\n",
       "      <td>1</td>\n",
       "      <td>False</td>\n",
       "      <td>False</td>\n",
       "      <td>False</td>\n",
       "    </tr>\n",
       "    <tr>\n",
       "      <th>1942913796</th>\n",
       "      <td>[[CH]]</td>\n",
       "      <td>[nan]</td>\n",
       "      <td>1</td>\n",
       "      <td>1</td>\n",
       "      <td>False</td>\n",
       "      <td>False</td>\n",
       "      <td>False</td>\n",
       "    </tr>\n",
       "    <tr>\n",
       "      <th>1988549203</th>\n",
       "      <td>[[CH2]]</td>\n",
       "      <td>[nan]</td>\n",
       "      <td>1</td>\n",
       "      <td>1</td>\n",
       "      <td>False</td>\n",
       "      <td>False</td>\n",
       "      <td>False</td>\n",
       "    </tr>\n",
       "    <tr>\n",
       "      <th>-79336287</th>\n",
       "      <td>[[N]]</td>\n",
       "      <td>[nan]</td>\n",
       "      <td>1</td>\n",
       "      <td>1</td>\n",
       "      <td>False</td>\n",
       "      <td>False</td>\n",
       "      <td>False</td>\n",
       "    </tr>\n",
       "    <tr>\n",
       "      <th>...</th>\n",
       "      <td>...</td>\n",
       "      <td>...</td>\n",
       "      <td>...</td>\n",
       "      <td>...</td>\n",
       "      <td>...</td>\n",
       "      <td>...</td>\n",
       "      <td>...</td>\n",
       "    </tr>\n",
       "    <tr>\n",
       "      <th>-482680872</th>\n",
       "      <td>[nan]</td>\n",
       "      <td>[[CH2]C=[N]]</td>\n",
       "      <td>1</td>\n",
       "      <td>1</td>\n",
       "      <td>False</td>\n",
       "      <td>False</td>\n",
       "      <td>False</td>\n",
       "    </tr>\n",
       "    <tr>\n",
       "      <th>669029778</th>\n",
       "      <td>[nan]</td>\n",
       "      <td>[[R1]CC=[N]]</td>\n",
       "      <td>1</td>\n",
       "      <td>1</td>\n",
       "      <td>False</td>\n",
       "      <td>False</td>\n",
       "      <td>False</td>\n",
       "    </tr>\n",
       "    <tr>\n",
       "      <th>-1619324806</th>\n",
       "      <td>[nan]</td>\n",
       "      <td>[[R1]CC=N[NH]]</td>\n",
       "      <td>1</td>\n",
       "      <td>1</td>\n",
       "      <td>False</td>\n",
       "      <td>False</td>\n",
       "      <td>False</td>\n",
       "    </tr>\n",
       "    <tr>\n",
       "      <th>145422003</th>\n",
       "      <td>[nan]</td>\n",
       "      <td>[[CH2]C=NN[C]]</td>\n",
       "      <td>1</td>\n",
       "      <td>1</td>\n",
       "      <td>False</td>\n",
       "      <td>False</td>\n",
       "      <td>False</td>\n",
       "    </tr>\n",
       "    <tr>\n",
       "      <th>299120862</th>\n",
       "      <td>[nan]</td>\n",
       "      <td>[[R1]CCC]</td>\n",
       "      <td>1</td>\n",
       "      <td>1</td>\n",
       "      <td>False</td>\n",
       "      <td>False</td>\n",
       "      <td>False</td>\n",
       "    </tr>\n",
       "  </tbody>\n",
       "</table>\n",
       "<p>2837 rows × 7 columns</p>\n",
       "</div>"
      ],
      "text/plain": [
       "                   1               2  3  4      5      6      7\n",
       "-1704794629   [[R1]]           [nan]  1  1  False  False  False\n",
       " 966199747     [[C]]           [nan]  1  1  False  False  False\n",
       " 1942913796   [[CH]]           [nan]  1  1  False  False  False\n",
       " 1988549203  [[CH2]]           [nan]  1  1  False  False  False\n",
       "-79336287      [[N]]           [nan]  1  1  False  False  False\n",
       "...              ...             ... .. ..    ...    ...    ...\n",
       "-482680872     [nan]    [[CH2]C=[N]]  1  1  False  False  False\n",
       " 669029778     [nan]    [[R1]CC=[N]]  1  1  False  False  False\n",
       "-1619324806    [nan]  [[R1]CC=N[NH]]  1  1  False  False  False\n",
       " 145422003     [nan]  [[CH2]C=NN[C]]  1  1  False  False  False\n",
       " 299120862     [nan]       [[R1]CCC]  1  1  False  False  False\n",
       "\n",
       "[2837 rows x 7 columns]"
      ]
     },
     "execution_count": 36,
     "metadata": {},
     "output_type": "execute_result"
    }
   ],
   "source": [
    "count"
   ]
  },
  {
   "cell_type": "code",
   "execution_count": null,
   "metadata": {},
   "outputs": [],
   "source": []
  },
  {
   "cell_type": "code",
   "execution_count": null,
   "metadata": {},
   "outputs": [],
   "source": []
  },
  {
   "cell_type": "code",
   "execution_count": null,
   "metadata": {},
   "outputs": [],
   "source": []
  },
  {
   "cell_type": "code",
   "execution_count": null,
   "metadata": {},
   "outputs": [],
   "source": []
  },
  {
   "cell_type": "code",
   "execution_count": 39,
   "metadata": {},
   "outputs": [],
   "source": [
    "count[count[7]].to_csv('./count.csv')"
   ]
  },
  {
   "cell_type": "code",
   "execution_count": null,
   "metadata": {},
   "outputs": [],
   "source": []
  }
 ],
 "metadata": {
  "interpreter": {
   "hash": "89f1e84b3455bf197e49cd811457abd55e39625663b0d345d32679d1ab22dd33"
  },
  "kernelspec": {
   "display_name": "Python 3 (ipykernel)",
   "language": "python",
   "name": "python3"
  },
  "language_info": {
   "codemirror_mode": {
    "name": "ipython",
    "version": 3
   },
   "file_extension": ".py",
   "mimetype": "text/x-python",
   "name": "python",
   "nbconvert_exporter": "python",
   "pygments_lexer": "ipython3",
   "version": "3.9.5"
  }
 },
 "nbformat": 4,
 "nbformat_minor": 4
}

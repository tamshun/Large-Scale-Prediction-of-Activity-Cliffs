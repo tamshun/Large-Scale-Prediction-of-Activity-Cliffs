{
 "cells": [
  {
   "cell_type": "code",
   "execution_count": 7,
   "metadata": {},
   "outputs": [],
   "source": [
    "import pandas as pd\n",
    "import numpy as np\n",
    "import matplotlib.pyplot as plt\n",
    "from figure import plots"
   ]
  },
  {
   "cell_type": "markdown",
   "metadata": {},
   "source": [
    "# Dataset info"
   ]
  },
  {
   "cell_type": "code",
   "execution_count": 8,
   "metadata": {},
   "outputs": [],
   "source": [
    "tlist = pd.read_csv('./Dataset/target_list.tsv', sep='\\t', index_col='chembl_tid')\n",
    "\n",
    "tlist['threshold'] = 0\n",
    "for tname in tlist.index:\n",
    "    df    = pd.read_csv('./Dataset/Data/%s.tsv'%tname, sep='\\t', index_col=0)\n",
    "    thres = df['thres'].iloc[0]\n",
    "    tlist.loc[tname, 'thres'] = thres\n",
    "    \n",
    "tlist = tlist.loc[tlist['predictable_trtssplit']]"
   ]
  },
  {
   "cell_type": "code",
   "execution_count": 9,
   "metadata": {},
   "outputs": [
    {
     "data": {
      "text/html": [
       "<div>\n",
       "<style scoped>\n",
       "    .dataframe tbody tr th:only-of-type {\n",
       "        vertical-align: middle;\n",
       "    }\n",
       "\n",
       "    .dataframe tbody tr th {\n",
       "        vertical-align: top;\n",
       "    }\n",
       "\n",
       "    .dataframe thead th {\n",
       "        text-align: right;\n",
       "    }\n",
       "</style>\n",
       "<table border=\"1\" class=\"dataframe\">\n",
       "  <thead>\n",
       "    <tr style=\"text-align: right;\">\n",
       "      <th></th>\n",
       "      <th>Unnamed: 0</th>\n",
       "      <th>entry</th>\n",
       "      <th>entry_name</th>\n",
       "      <th>protein_names</th>\n",
       "      <th>protein_families</th>\n",
       "      <th>organism</th>\n",
       "      <th>ec_number</th>\n",
       "      <th>gene_names(primary)</th>\n",
       "      <th>gene_ontology(molecular_function)</th>\n",
       "      <th>primary_name</th>\n",
       "      <th>#mmp</th>\n",
       "      <th>#mms</th>\n",
       "      <th>machine1</th>\n",
       "      <th>machine2</th>\n",
       "      <th>predictable_trtssplit</th>\n",
       "      <th>threshold</th>\n",
       "      <th>thres</th>\n",
       "    </tr>\n",
       "    <tr>\n",
       "      <th>chembl_tid</th>\n",
       "      <th></th>\n",
       "      <th></th>\n",
       "      <th></th>\n",
       "      <th></th>\n",
       "      <th></th>\n",
       "      <th></th>\n",
       "      <th></th>\n",
       "      <th></th>\n",
       "      <th></th>\n",
       "      <th></th>\n",
       "      <th></th>\n",
       "      <th></th>\n",
       "      <th></th>\n",
       "      <th></th>\n",
       "      <th></th>\n",
       "      <th></th>\n",
       "      <th></th>\n",
       "    </tr>\n",
       "  </thead>\n",
       "  <tbody>\n",
       "    <tr>\n",
       "      <th>CHEMBL244</th>\n",
       "      <td>0</td>\n",
       "      <td>P00742</td>\n",
       "      <td>FA10_HUMAN</td>\n",
       "      <td>Coagulation factor X (EC 3.4.21.6) (Stuart fac...</td>\n",
       "      <td>Peptidase S1 family</td>\n",
       "      <td>Homo sapiens (Human)</td>\n",
       "      <td>3.4.21.6</td>\n",
       "      <td>F10</td>\n",
       "      <td>calcium ion binding [GO:0005509]; phospholipid...</td>\n",
       "      <td>Coagulation factor X</td>\n",
       "      <td>3283</td>\n",
       "      <td>213</td>\n",
       "      <td>True</td>\n",
       "      <td>False</td>\n",
       "      <td>True</td>\n",
       "      <td>0</td>\n",
       "      <td>2.274817</td>\n",
       "    </tr>\n",
       "    <tr>\n",
       "      <th>CHEMBL204</th>\n",
       "      <td>1</td>\n",
       "      <td>P00734</td>\n",
       "      <td>THRB_HUMAN</td>\n",
       "      <td>Prothrombin (EC 3.4.21.5) (Coagulation factor ...</td>\n",
       "      <td>Peptidase S1 family</td>\n",
       "      <td>Homo sapiens (Human)</td>\n",
       "      <td>3.4.21.5</td>\n",
       "      <td>F2</td>\n",
       "      <td>calcium ion binding [GO:0005509]; growth facto...</td>\n",
       "      <td>Prothrombin</td>\n",
       "      <td>2179</td>\n",
       "      <td>115</td>\n",
       "      <td>False</td>\n",
       "      <td>True</td>\n",
       "      <td>True</td>\n",
       "      <td>0</td>\n",
       "      <td>2.164973</td>\n",
       "    </tr>\n",
       "    <tr>\n",
       "      <th>CHEMBL3594</th>\n",
       "      <td>2</td>\n",
       "      <td>Q16790</td>\n",
       "      <td>CAH9_HUMAN</td>\n",
       "      <td>Carbonic anhydrase 9 (EC 4.2.1.1) (Carbonate d...</td>\n",
       "      <td>Alpha-carbonic anhydrase family</td>\n",
       "      <td>Homo sapiens (Human)</td>\n",
       "      <td>4.2.1.1</td>\n",
       "      <td>CA9</td>\n",
       "      <td>carbonate dehydratase activity [GO:0004089]; h...</td>\n",
       "      <td>Carbonic anhydrase 9</td>\n",
       "      <td>2108</td>\n",
       "      <td>278</td>\n",
       "      <td>True</td>\n",
       "      <td>False</td>\n",
       "      <td>True</td>\n",
       "      <td>0</td>\n",
       "      <td>1.706915</td>\n",
       "    </tr>\n",
       "    <tr>\n",
       "      <th>CHEMBL261</th>\n",
       "      <td>3</td>\n",
       "      <td>P00915</td>\n",
       "      <td>CAH1_HUMAN</td>\n",
       "      <td>Carbonic anhydrase 1 (EC 4.2.1.1) (Carbonate d...</td>\n",
       "      <td>Alpha-carbonic anhydrase family</td>\n",
       "      <td>Homo sapiens (Human)</td>\n",
       "      <td>4.2.1.1</td>\n",
       "      <td>CA1</td>\n",
       "      <td>arylesterase activity [GO:0004064]; carbonate ...</td>\n",
       "      <td>Carbonic anhydrase 1</td>\n",
       "      <td>2091</td>\n",
       "      <td>304</td>\n",
       "      <td>False</td>\n",
       "      <td>True</td>\n",
       "      <td>True</td>\n",
       "      <td>0</td>\n",
       "      <td>1.865207</td>\n",
       "    </tr>\n",
       "    <tr>\n",
       "      <th>CHEMBL205</th>\n",
       "      <td>4</td>\n",
       "      <td>P00918</td>\n",
       "      <td>CAH2_HUMAN</td>\n",
       "      <td>Carbonic anhydrase 2 (EC 4.2.1.1) (Carbonate d...</td>\n",
       "      <td>Alpha-carbonic anhydrase family</td>\n",
       "      <td>Homo sapiens (Human)</td>\n",
       "      <td>4.2.1.1</td>\n",
       "      <td>CA2</td>\n",
       "      <td>arylesterase activity [GO:0004064]; carbonate ...</td>\n",
       "      <td>Carbonic anhydrase 2</td>\n",
       "      <td>2091</td>\n",
       "      <td>309</td>\n",
       "      <td>True</td>\n",
       "      <td>False</td>\n",
       "      <td>True</td>\n",
       "      <td>0</td>\n",
       "      <td>1.795089</td>\n",
       "    </tr>\n",
       "  </tbody>\n",
       "</table>\n",
       "</div>"
      ],
      "text/plain": [
       "            Unnamed: 0   entry  entry_name  \\\n",
       "chembl_tid                                   \n",
       "CHEMBL244            0  P00742  FA10_HUMAN   \n",
       "CHEMBL204            1  P00734  THRB_HUMAN   \n",
       "CHEMBL3594           2  Q16790  CAH9_HUMAN   \n",
       "CHEMBL261            3  P00915  CAH1_HUMAN   \n",
       "CHEMBL205            4  P00918  CAH2_HUMAN   \n",
       "\n",
       "                                                protein_names  \\\n",
       "chembl_tid                                                      \n",
       "CHEMBL244   Coagulation factor X (EC 3.4.21.6) (Stuart fac...   \n",
       "CHEMBL204   Prothrombin (EC 3.4.21.5) (Coagulation factor ...   \n",
       "CHEMBL3594  Carbonic anhydrase 9 (EC 4.2.1.1) (Carbonate d...   \n",
       "CHEMBL261   Carbonic anhydrase 1 (EC 4.2.1.1) (Carbonate d...   \n",
       "CHEMBL205   Carbonic anhydrase 2 (EC 4.2.1.1) (Carbonate d...   \n",
       "\n",
       "                           protein_families              organism ec_number  \\\n",
       "chembl_tid                                                                    \n",
       "CHEMBL244               Peptidase S1 family  Homo sapiens (Human)  3.4.21.6   \n",
       "CHEMBL204               Peptidase S1 family  Homo sapiens (Human)  3.4.21.5   \n",
       "CHEMBL3594  Alpha-carbonic anhydrase family  Homo sapiens (Human)   4.2.1.1   \n",
       "CHEMBL261   Alpha-carbonic anhydrase family  Homo sapiens (Human)   4.2.1.1   \n",
       "CHEMBL205   Alpha-carbonic anhydrase family  Homo sapiens (Human)   4.2.1.1   \n",
       "\n",
       "           gene_names(primary)  \\\n",
       "chembl_tid                       \n",
       "CHEMBL244                  F10   \n",
       "CHEMBL204                   F2   \n",
       "CHEMBL3594                 CA9   \n",
       "CHEMBL261                  CA1   \n",
       "CHEMBL205                  CA2   \n",
       "\n",
       "                            gene_ontology(molecular_function)  \\\n",
       "chembl_tid                                                      \n",
       "CHEMBL244   calcium ion binding [GO:0005509]; phospholipid...   \n",
       "CHEMBL204   calcium ion binding [GO:0005509]; growth facto...   \n",
       "CHEMBL3594  carbonate dehydratase activity [GO:0004089]; h...   \n",
       "CHEMBL261   arylesterase activity [GO:0004064]; carbonate ...   \n",
       "CHEMBL205   arylesterase activity [GO:0004064]; carbonate ...   \n",
       "\n",
       "                    primary_name  #mmp  #mms  machine1  machine2  \\\n",
       "chembl_tid                                                         \n",
       "CHEMBL244   Coagulation factor X  3283   213      True     False   \n",
       "CHEMBL204            Prothrombin  2179   115     False      True   \n",
       "CHEMBL3594  Carbonic anhydrase 9  2108   278      True     False   \n",
       "CHEMBL261   Carbonic anhydrase 1  2091   304     False      True   \n",
       "CHEMBL205   Carbonic anhydrase 2  2091   309      True     False   \n",
       "\n",
       "            predictable_trtssplit  threshold     thres  \n",
       "chembl_tid                                              \n",
       "CHEMBL244                    True          0  2.274817  \n",
       "CHEMBL204                    True          0  2.164973  \n",
       "CHEMBL3594                   True          0  1.706915  \n",
       "CHEMBL261                    True          0  1.865207  \n",
       "CHEMBL205                    True          0  1.795089  "
      ]
     },
     "execution_count": 9,
     "metadata": {},
     "output_type": "execute_result"
    }
   ],
   "source": [
    "tlist.head()"
   ]
  },
  {
   "cell_type": "code",
   "execution_count": 10,
   "metadata": {},
   "outputs": [
    {
     "name": "stderr",
     "output_type": "stream",
     "text": [
      "/home/tamuras0/miniconda3/envs/rdkit/lib/python3.6/site-packages/seaborn/distributions.py:2619: FutureWarning: `distplot` is a deprecated function and will be removed in a future version. Please adapt your code to use either `displot` (a figure-level function with similar flexibility) or `histplot` (an axes-level function for histograms).\n",
      "  warnings.warn(msg, FutureWarning)\n"
     ]
    },
    {
     "data": {
      "image/png": "[encoded data removed]",
      "text/plain": [
       "<Figure size 842.4x842.4 with 1 Axes>"
      ]
     },
     "metadata": {},
     "output_type": "display_data"
    }
   ],
   "source": [
    "plots.makeHistogramSeaborn(pd_table  = tlist,\n",
    "                           xname     = 'thres',\n",
    "                           hue_col   = None,\n",
    "                           normalize = False,\n",
    "                           label_name= 'Threshold'\n",
    "                           )"
   ]
  },
  {
   "cell_type": "code",
   "execution_count": 11,
   "metadata": {},
   "outputs": [
    {
     "name": "stderr",
     "output_type": "stream",
     "text": [
      "/home/tamuras0/miniconda3/envs/rdkit/lib/python3.6/site-packages/seaborn/distributions.py:2619: FutureWarning: `distplot` is a deprecated function and will be removed in a future version. Please adapt your code to use either `displot` (a figure-level function with similar flexibility) or `histplot` (an axes-level function for histograms).\n",
      "  warnings.warn(msg, FutureWarning)\n"
     ]
    },
    {
     "data": {
      "image/png": "[encoded data removed]",
      "text/plain": [
       "<Figure size 842.4x842.4 with 1 Axes>"
      ]
     },
     "metadata": {},
     "output_type": "display_data"
    }
   ],
   "source": [
    "plots.makeHistogramSeaborn(pd_table  = tlist,\n",
    "                           xname     = '#mmp',\n",
    "                           hue_col   = None,\n",
    "                           normalize = False,\n",
    "                           )"
   ]
  },
  {
   "cell_type": "code",
   "execution_count": 12,
   "metadata": {},
   "outputs": [
    {
     "name": "stderr",
     "output_type": "stream",
     "text": [
      "/home/tamuras0/miniconda3/envs/rdkit/lib/python3.6/site-packages/seaborn/distributions.py:2619: FutureWarning: `distplot` is a deprecated function and will be removed in a future version. Please adapt your code to use either `displot` (a figure-level function with similar flexibility) or `histplot` (an axes-level function for histograms).\n",
      "  warnings.warn(msg, FutureWarning)\n"
     ]
    },
    {
     "data": {
      "image/png": "[encoded data removed]",
      "text/plain": [
       "<Figure size 842.4x842.4 with 1 Axes>"
      ]
     },
     "metadata": {},
     "output_type": "display_data"
    }
   ],
   "source": [
    "plots.makeHistogramSeaborn(pd_table  = tlist,\n",
    "                           xname     = '#mms',\n",
    "                           hue_col   = None,\n",
    "                           normalize = False,\n",
    "                           )"
   ]
  },
  {
   "cell_type": "code",
   "execution_count": 13,
   "metadata": {},
   "outputs": [],
   "source": [
    "svm = pd.read_csv('./Score_wodirection_trtssplit/SVM/mean.tsv', sep='\\t', index_col=0)\n",
    "xgb = pd.read_csv('./Score_wodirection_trtssplit/XGBoost/mean.tsv', sep='\\t', index_col=0)\n",
    "rf  = pd.read_csv('./Score_wodirection_trtssplit/Random_Forest/mean.tsv', sep='\\t', index_col=0)\n",
    "fcn = pd.read_csv('./Score_wodirection_trtssplit/FCNN/mean.tsv', sep='\\t', index_col=0)\n",
    "mpn = pd.read_csv('./Score_wodirection_trtssplit/MPNN/mean.tsv', sep='\\t', index_col=0)\n",
    "\n",
    "svm['model'] = 'svm'\n",
    "xgb['model'] = 'xgb'\n",
    "rf['model']  = 'rf'\n",
    "fcn['model'] = 'fcn'\n",
    "mpn['model'] = 'mpn'\n",
    "\n",
    "all_score = pd.concat([svm, xgb, rf, fcn, mpn])"
   ]
  },
  {
   "cell_type": "code",
   "execution_count": 14,
   "metadata": {},
   "outputs": [
    {
     "data": {
      "text/html": [
       "<div>\n",
       "<style scoped>\n",
       "    .dataframe tbody tr th:only-of-type {\n",
       "        vertical-align: middle;\n",
       "    }\n",
       "\n",
       "    .dataframe tbody tr th {\n",
       "        vertical-align: top;\n",
       "    }\n",
       "\n",
       "    .dataframe thead th {\n",
       "        text-align: right;\n",
       "    }\n",
       "</style>\n",
       "<table border=\"1\" class=\"dataframe\">\n",
       "  <thead>\n",
       "    <tr style=\"text-align: right;\">\n",
       "      <th></th>\n",
       "      <th>accuracy</th>\n",
       "      <th>precision</th>\n",
       "      <th>recall</th>\n",
       "      <th>f1</th>\n",
       "      <th>auc_roc</th>\n",
       "      <th>matthews_coeff</th>\n",
       "      <th>#tr</th>\n",
       "      <th>#ac_tr</th>\n",
       "      <th>accuracy_var</th>\n",
       "      <th>precision_var</th>\n",
       "      <th>recall_var</th>\n",
       "      <th>f1_var</th>\n",
       "      <th>auc_roc_var</th>\n",
       "      <th>matthews_coeff_var</th>\n",
       "      <th>#tr_var</th>\n",
       "      <th>#ac_tr_var</th>\n",
       "      <th>model</th>\n",
       "    </tr>\n",
       "  </thead>\n",
       "  <tbody>\n",
       "    <tr>\n",
       "      <th>CHEMBL244</th>\n",
       "      <td>0.970</td>\n",
       "      <td>0.777</td>\n",
       "      <td>0.791</td>\n",
       "      <td>0.781</td>\n",
       "      <td>0.978</td>\n",
       "      <td>0.766</td>\n",
       "      <td>2298.0</td>\n",
       "      <td>155.0</td>\n",
       "      <td>0.0</td>\n",
       "      <td>0.007</td>\n",
       "      <td>0.002</td>\n",
       "      <td>0.001</td>\n",
       "      <td>0.000</td>\n",
       "      <td>0.001</td>\n",
       "      <td>0.0</td>\n",
       "      <td>0.0</td>\n",
       "      <td>svm</td>\n",
       "    </tr>\n",
       "    <tr>\n",
       "      <th>CHEMBL204</th>\n",
       "      <td>0.979</td>\n",
       "      <td>0.817</td>\n",
       "      <td>0.915</td>\n",
       "      <td>0.862</td>\n",
       "      <td>0.987</td>\n",
       "      <td>0.853</td>\n",
       "      <td>1525.0</td>\n",
       "      <td>110.0</td>\n",
       "      <td>0.0</td>\n",
       "      <td>0.000</td>\n",
       "      <td>0.006</td>\n",
       "      <td>0.001</td>\n",
       "      <td>0.000</td>\n",
       "      <td>0.002</td>\n",
       "      <td>0.0</td>\n",
       "      <td>0.0</td>\n",
       "      <td>svm</td>\n",
       "    </tr>\n",
       "    <tr>\n",
       "      <th>CHEMBL3594</th>\n",
       "      <td>0.943</td>\n",
       "      <td>0.582</td>\n",
       "      <td>0.563</td>\n",
       "      <td>0.572</td>\n",
       "      <td>0.914</td>\n",
       "      <td>0.542</td>\n",
       "      <td>1475.0</td>\n",
       "      <td>99.0</td>\n",
       "      <td>0.0</td>\n",
       "      <td>0.014</td>\n",
       "      <td>0.003</td>\n",
       "      <td>0.008</td>\n",
       "      <td>0.000</td>\n",
       "      <td>0.009</td>\n",
       "      <td>0.0</td>\n",
       "      <td>0.0</td>\n",
       "      <td>svm</td>\n",
       "    </tr>\n",
       "    <tr>\n",
       "      <th>CHEMBL261</th>\n",
       "      <td>0.949</td>\n",
       "      <td>0.602</td>\n",
       "      <td>0.650</td>\n",
       "      <td>0.623</td>\n",
       "      <td>0.944</td>\n",
       "      <td>0.598</td>\n",
       "      <td>1463.0</td>\n",
       "      <td>97.0</td>\n",
       "      <td>0.0</td>\n",
       "      <td>0.004</td>\n",
       "      <td>0.010</td>\n",
       "      <td>0.005</td>\n",
       "      <td>0.001</td>\n",
       "      <td>0.006</td>\n",
       "      <td>0.0</td>\n",
       "      <td>0.0</td>\n",
       "      <td>svm</td>\n",
       "    </tr>\n",
       "    <tr>\n",
       "      <th>CHEMBL205</th>\n",
       "      <td>0.920</td>\n",
       "      <td>0.437</td>\n",
       "      <td>0.597</td>\n",
       "      <td>0.504</td>\n",
       "      <td>0.884</td>\n",
       "      <td>0.469</td>\n",
       "      <td>1463.0</td>\n",
       "      <td>100.0</td>\n",
       "      <td>0.0</td>\n",
       "      <td>0.000</td>\n",
       "      <td>0.002</td>\n",
       "      <td>0.001</td>\n",
       "      <td>0.000</td>\n",
       "      <td>0.001</td>\n",
       "      <td>0.0</td>\n",
       "      <td>0.0</td>\n",
       "      <td>svm</td>\n",
       "    </tr>\n",
       "  </tbody>\n",
       "</table>\n",
       "</div>"
      ],
      "text/plain": [
       "            accuracy  precision  recall     f1  auc_roc  matthews_coeff  \\\n",
       "CHEMBL244      0.970      0.777   0.791  0.781    0.978           0.766   \n",
       "CHEMBL204      0.979      0.817   0.915  0.862    0.987           0.853   \n",
       "CHEMBL3594     0.943      0.582   0.563  0.572    0.914           0.542   \n",
       "CHEMBL261      0.949      0.602   0.650  0.623    0.944           0.598   \n",
       "CHEMBL205      0.920      0.437   0.597  0.504    0.884           0.469   \n",
       "\n",
       "               #tr  #ac_tr  accuracy_var  precision_var  recall_var  f1_var  \\\n",
       "CHEMBL244   2298.0   155.0           0.0          0.007       0.002   0.001   \n",
       "CHEMBL204   1525.0   110.0           0.0          0.000       0.006   0.001   \n",
       "CHEMBL3594  1475.0    99.0           0.0          0.014       0.003   0.008   \n",
       "CHEMBL261   1463.0    97.0           0.0          0.004       0.010   0.005   \n",
       "CHEMBL205   1463.0   100.0           0.0          0.000       0.002   0.001   \n",
       "\n",
       "            auc_roc_var  matthews_coeff_var  #tr_var  #ac_tr_var model  \n",
       "CHEMBL244         0.000               0.001      0.0         0.0   svm  \n",
       "CHEMBL204         0.000               0.002      0.0         0.0   svm  \n",
       "CHEMBL3594        0.000               0.009      0.0         0.0   svm  \n",
       "CHEMBL261         0.001               0.006      0.0         0.0   svm  \n",
       "CHEMBL205         0.000               0.001      0.0         0.0   svm  "
      ]
     },
     "execution_count": 14,
     "metadata": {},
     "output_type": "execute_result"
    }
   ],
   "source": [
    "all_score.head()"
   ]
  },
  {
   "cell_type": "code",
   "execution_count": null,
   "metadata": {},
   "outputs": [],
   "source": []
  },
  {
   "cell_type": "code",
   "execution_count": 15,
   "metadata": {},
   "outputs": [
    {
     "name": "stderr",
     "output_type": "stream",
     "text": [
      "/home/tamuras0/miniconda3/envs/rdkit/lib/python3.6/site-packages/seaborn/categorical.py:1296: UserWarning: 50.0% of the points cannot be placed; you may want to decrease the size of the markers or use stripplot.\n",
      "  warnings.warn(msg, UserWarning)\n",
      "/home/tamuras0/miniconda3/envs/rdkit/lib/python3.6/site-packages/seaborn/categorical.py:1296: UserWarning: 17.0% of the points cannot be placed; you may want to decrease the size of the markers or use stripplot.\n",
      "  warnings.warn(msg, UserWarning)\n",
      "/home/tamuras0/miniconda3/envs/rdkit/lib/python3.6/site-packages/seaborn/categorical.py:1296: UserWarning: 91.0% of the points cannot be placed; you may want to decrease the size of the markers or use stripplot.\n",
      "  warnings.warn(msg, UserWarning)\n",
      "/home/tamuras0/miniconda3/envs/rdkit/lib/python3.6/site-packages/seaborn/utils.py:189: FutureWarning: This function is deprecated and will be removed in a future version\n",
      "  warnings.warn(msg, FutureWarning)\n",
      "No handles with labels found to put in legend.\n"
     ]
    },
    {
     "data": {
      "image/png": "[encoded data removed]",
      "text/plain": [
       "<Figure size 842.4x595.44 with 1 Axes>"
      ]
     },
     "metadata": {},
     "output_type": "display_data"
    }
   ],
   "source": [
    "plots.MakeBoxPlotsSeaborn(table     = all_score,\n",
    "                          xname     = 'model',\n",
    "                          yname     = 'recall',\n",
    "                          use_swarm = True,\n",
    "                          )"
   ]
  },
  {
   "cell_type": "code",
   "execution_count": 16,
   "metadata": {},
   "outputs": [],
   "source": [
    "import seaborn as sns\n",
    "import matplotlib\n",
    "from mpl_toolkits.axes_grid1 import make_axes_locatable\n",
    "\n",
    "color_col = '#tr'\n",
    "\n",
    "#Create a matplotlib colormap from the sns seagreen color palette\n",
    "cmap    = sns.light_palette(\"blue\", reverse=False, as_cmap=True )\n",
    "# Normalize to the range of possible values from df[\"c\"]\n",
    "norm = matplotlib.colors.Normalize(vmin=all_score[color_col].min(), vmax=all_score[color_col].max())\n",
    "# create a color dictionary (value in c : color from colormap) \n",
    "colors = {}\n",
    "for cval in all_score[color_col]:\n",
    "    colors.update({cval : cmap(norm(cval))})"
   ]
  },
  {
   "cell_type": "code",
   "execution_count": 17,
   "metadata": {},
   "outputs": [
    {
     "name": "stderr",
     "output_type": "stream",
     "text": [
      "/home/tamuras0/miniconda3/envs/rdkit/lib/python3.6/site-packages/seaborn/categorical.py:1296: UserWarning: 48.0% of the points cannot be placed; you may want to decrease the size of the markers or use stripplot.\n",
      "  warnings.warn(msg, UserWarning)\n",
      "/home/tamuras0/miniconda3/envs/rdkit/lib/python3.6/site-packages/seaborn/categorical.py:1296: UserWarning: 13.0% of the points cannot be placed; you may want to decrease the size of the markers or use stripplot.\n",
      "  warnings.warn(msg, UserWarning)\n",
      "/home/tamuras0/miniconda3/envs/rdkit/lib/python3.6/site-packages/seaborn/categorical.py:1296: UserWarning: 91.0% of the points cannot be placed; you may want to decrease the size of the markers or use stripplot.\n",
      "  warnings.warn(msg, UserWarning)\n"
     ]
    },
    {
     "data": {
      "image/png": "[encoded data removed]",
      "text/plain": [
       "<Figure size 842.4x595.44 with 2 Axes>"
      ]
     },
     "metadata": {},
     "output_type": "display_data"
    }
   ],
   "source": [
    "sns.set(font_scale=2.0, context='paper', style='whitegrid')\n",
    "margin  = 0.15 # bottom margin\n",
    "fig, ax = plt.subplots(figsize=(11.7, 8.27))\n",
    "\n",
    "ax      = sns.swarmplot(x='model', y='matthews_coeff', hue=color_col, data=all_score, ax=ax, size=2.0*5, palette=colors)\n",
    "plt.gca().legend_.remove()\n",
    "\n",
    "## create colorbar ##\n",
    "divider = make_axes_locatable(plt.gca())\n",
    "ax_cb = divider.new_horizontal(size=\"5%\", pad=0.05)\n",
    "fig.add_axes(ax_cb)\n",
    "cb1 = matplotlib.colorbar.ColorbarBase(ax_cb, \n",
    "                                       cmap = cmap,\n",
    "                                       norm = norm,\n",
    "                                       orientation = 'vertical')\n",
    "cb1.set_label(color_col)\n"
   ]
  },
  {
   "cell_type": "code",
   "execution_count": 18,
   "metadata": {},
   "outputs": [
    {
     "data": {
      "image/png": "[encoded data removed]",
      "text/plain": [
       "<Figure size 842.4x595.44 with 2 Axes>"
      ]
     },
     "metadata": {},
     "output_type": "display_data"
    }
   ],
   "source": [
    "d_mcc_fcn_svm = fcn['matthews_coeff'] - svm['matthews_coeff']\n",
    "\n",
    "\n",
    "sns.set(font_scale=2.0, context='paper', style='whitegrid')\n",
    "margin  = 0.15 # bottom margin\n",
    "fig, ax = plt.subplots(figsize=(11.7, 8.27))\n",
    "\n",
    "ax      = sns.swarmplot(x=['fcn-svm']*svm.shape[0], y=d_mcc_fcn_svm, hue=fcn[color_col], data=None, ax=ax, size=2.0*5, palette=colors)\n",
    "plt.gca().legend_.remove()\n",
    "\n",
    "## create colorbar ##\n",
    "divider = make_axes_locatable(plt.gca())\n",
    "ax_cb = divider.new_horizontal(size=\"5%\", pad=0.05)\n",
    "fig.add_axes(ax_cb)\n",
    "cb1 = matplotlib.colorbar.ColorbarBase(ax_cb, \n",
    "                                       cmap = cmap,\n",
    "                                       norm = norm,\n",
    "                                       orientation = 'vertical')\n",
    "cb1.set_label(color_col)"
   ]
  },
  {
   "cell_type": "code",
   "execution_count": 19,
   "metadata": {},
   "outputs": [],
   "source": [
    "import plotly.express as px\n",
    "import plotly.io as pio\n"
   ]
  },
  {
   "cell_type": "code",
   "execution_count": 30,
   "metadata": {},
   "outputs": [
    {
     "data": {
      "text/html": [
       "<div>\n",
       "<style scoped>\n",
       "    .dataframe tbody tr th:only-of-type {\n",
       "        vertical-align: middle;\n",
       "    }\n",
       "\n",
       "    .dataframe tbody tr th {\n",
       "        vertical-align: top;\n",
       "    }\n",
       "\n",
       "    .dataframe thead th {\n",
       "        text-align: right;\n",
       "    }\n",
       "</style>\n",
       "<table border=\"1\" class=\"dataframe\">\n",
       "  <thead>\n",
       "    <tr style=\"text-align: right;\">\n",
       "      <th></th>\n",
       "      <th>accuracy</th>\n",
       "      <th>precision</th>\n",
       "      <th>recall</th>\n",
       "      <th>f1</th>\n",
       "      <th>auc_roc</th>\n",
       "      <th>matthews_coeff</th>\n",
       "      <th>#tr</th>\n",
       "      <th>#ac_tr</th>\n",
       "      <th>accuracy_var</th>\n",
       "      <th>precision_var</th>\n",
       "      <th>recall_var</th>\n",
       "      <th>f1_var</th>\n",
       "      <th>auc_roc_var</th>\n",
       "      <th>matthews_coeff_var</th>\n",
       "      <th>#tr_var</th>\n",
       "      <th>#ac_tr_var</th>\n",
       "      <th>model</th>\n",
       "    </tr>\n",
       "  </thead>\n",
       "  <tbody>\n",
       "    <tr>\n",
       "      <th>CHEMBL3018</th>\n",
       "      <td>1.000</td>\n",
       "      <td>1.000</td>\n",
       "      <td>1.000</td>\n",
       "      <td>1.000</td>\n",
       "      <td>1.000</td>\n",
       "      <td>1.000</td>\n",
       "      <td>94.0</td>\n",
       "      <td>8.0</td>\n",
       "      <td>0.0</td>\n",
       "      <td>0.000</td>\n",
       "      <td>0.000</td>\n",
       "      <td>0.000</td>\n",
       "      <td>0.000</td>\n",
       "      <td>0.000</td>\n",
       "      <td>0.0</td>\n",
       "      <td>0.0</td>\n",
       "      <td>fcn</td>\n",
       "    </tr>\n",
       "    <tr>\n",
       "      <th>CHEMBL4072</th>\n",
       "      <td>0.985</td>\n",
       "      <td>0.864</td>\n",
       "      <td>0.935</td>\n",
       "      <td>0.897</td>\n",
       "      <td>0.967</td>\n",
       "      <td>0.891</td>\n",
       "      <td>200.0</td>\n",
       "      <td>15.0</td>\n",
       "      <td>0.0</td>\n",
       "      <td>0.000</td>\n",
       "      <td>0.003</td>\n",
       "      <td>0.001</td>\n",
       "      <td>0.001</td>\n",
       "      <td>0.001</td>\n",
       "      <td>0.0</td>\n",
       "      <td>0.0</td>\n",
       "      <td>fcn</td>\n",
       "    </tr>\n",
       "    <tr>\n",
       "      <th>CHEMBL1800</th>\n",
       "      <td>0.987</td>\n",
       "      <td>0.921</td>\n",
       "      <td>0.873</td>\n",
       "      <td>0.895</td>\n",
       "      <td>0.914</td>\n",
       "      <td>0.889</td>\n",
       "      <td>252.0</td>\n",
       "      <td>15.0</td>\n",
       "      <td>0.0</td>\n",
       "      <td>0.005</td>\n",
       "      <td>0.001</td>\n",
       "      <td>0.001</td>\n",
       "      <td>0.001</td>\n",
       "      <td>0.001</td>\n",
       "      <td>0.0</td>\n",
       "      <td>0.0</td>\n",
       "      <td>fcn</td>\n",
       "    </tr>\n",
       "    <tr>\n",
       "      <th>CHEMBL5407</th>\n",
       "      <td>0.977</td>\n",
       "      <td>0.800</td>\n",
       "      <td>1.000</td>\n",
       "      <td>0.889</td>\n",
       "      <td>0.994</td>\n",
       "      <td>0.883</td>\n",
       "      <td>99.0</td>\n",
       "      <td>10.0</td>\n",
       "      <td>0.0</td>\n",
       "      <td>0.000</td>\n",
       "      <td>0.000</td>\n",
       "      <td>0.000</td>\n",
       "      <td>0.000</td>\n",
       "      <td>0.000</td>\n",
       "      <td>0.0</td>\n",
       "      <td>0.0</td>\n",
       "      <td>fcn</td>\n",
       "    </tr>\n",
       "    <tr>\n",
       "      <th>CHEMBL1741186</th>\n",
       "      <td>0.984</td>\n",
       "      <td>0.922</td>\n",
       "      <td>0.861</td>\n",
       "      <td>0.890</td>\n",
       "      <td>0.996</td>\n",
       "      <td>0.882</td>\n",
       "      <td>117.0</td>\n",
       "      <td>10.0</td>\n",
       "      <td>0.0</td>\n",
       "      <td>0.005</td>\n",
       "      <td>0.016</td>\n",
       "      <td>0.010</td>\n",
       "      <td>0.000</td>\n",
       "      <td>0.012</td>\n",
       "      <td>0.0</td>\n",
       "      <td>0.0</td>\n",
       "      <td>fcn</td>\n",
       "    </tr>\n",
       "    <tr>\n",
       "      <th>CHEMBL204</th>\n",
       "      <td>0.982</td>\n",
       "      <td>0.902</td>\n",
       "      <td>0.845</td>\n",
       "      <td>0.872</td>\n",
       "      <td>0.966</td>\n",
       "      <td>0.864</td>\n",
       "      <td>1525.0</td>\n",
       "      <td>110.0</td>\n",
       "      <td>0.0</td>\n",
       "      <td>0.000</td>\n",
       "      <td>0.001</td>\n",
       "      <td>0.000</td>\n",
       "      <td>0.000</td>\n",
       "      <td>0.000</td>\n",
       "      <td>0.0</td>\n",
       "      <td>0.0</td>\n",
       "      <td>fcn</td>\n",
       "    </tr>\n",
       "    <tr>\n",
       "      <th>CHEMBL1926488</th>\n",
       "      <td>0.980</td>\n",
       "      <td>0.750</td>\n",
       "      <td>1.000</td>\n",
       "      <td>0.857</td>\n",
       "      <td>0.984</td>\n",
       "      <td>0.857</td>\n",
       "      <td>116.0</td>\n",
       "      <td>8.0</td>\n",
       "      <td>0.0</td>\n",
       "      <td>0.000</td>\n",
       "      <td>0.000</td>\n",
       "      <td>0.000</td>\n",
       "      <td>0.000</td>\n",
       "      <td>0.000</td>\n",
       "      <td>0.0</td>\n",
       "      <td>0.0</td>\n",
       "      <td>fcn</td>\n",
       "    </tr>\n",
       "    <tr>\n",
       "      <th>CHEMBL255</th>\n",
       "      <td>0.990</td>\n",
       "      <td>0.847</td>\n",
       "      <td>0.870</td>\n",
       "      <td>0.855</td>\n",
       "      <td>0.991</td>\n",
       "      <td>0.852</td>\n",
       "      <td>588.0</td>\n",
       "      <td>22.0</td>\n",
       "      <td>0.0</td>\n",
       "      <td>0.001</td>\n",
       "      <td>0.013</td>\n",
       "      <td>0.002</td>\n",
       "      <td>0.000</td>\n",
       "      <td>0.002</td>\n",
       "      <td>0.0</td>\n",
       "      <td>0.0</td>\n",
       "      <td>fcn</td>\n",
       "    </tr>\n",
       "    <tr>\n",
       "      <th>CHEMBL1795117</th>\n",
       "      <td>0.976</td>\n",
       "      <td>0.831</td>\n",
       "      <td>0.870</td>\n",
       "      <td>0.849</td>\n",
       "      <td>0.911</td>\n",
       "      <td>0.837</td>\n",
       "      <td>90.0</td>\n",
       "      <td>8.0</td>\n",
       "      <td>0.0</td>\n",
       "      <td>0.023</td>\n",
       "      <td>0.013</td>\n",
       "      <td>0.017</td>\n",
       "      <td>0.006</td>\n",
       "      <td>0.020</td>\n",
       "      <td>0.0</td>\n",
       "      <td>0.0</td>\n",
       "      <td>fcn</td>\n",
       "    </tr>\n",
       "    <tr>\n",
       "      <th>CHEMBL4361</th>\n",
       "      <td>0.986</td>\n",
       "      <td>1.000</td>\n",
       "      <td>0.722</td>\n",
       "      <td>0.822</td>\n",
       "      <td>0.869</td>\n",
       "      <td>0.836</td>\n",
       "      <td>63.0</td>\n",
       "      <td>4.0</td>\n",
       "      <td>0.0</td>\n",
       "      <td>0.000</td>\n",
       "      <td>0.065</td>\n",
       "      <td>0.028</td>\n",
       "      <td>0.013</td>\n",
       "      <td>0.023</td>\n",
       "      <td>0.0</td>\n",
       "      <td>0.0</td>\n",
       "      <td>fcn</td>\n",
       "    </tr>\n",
       "  </tbody>\n",
       "</table>\n",
       "</div>"
      ],
      "text/plain": [
       "               accuracy  precision  recall     f1  auc_roc  matthews_coeff  \\\n",
       "CHEMBL3018        1.000      1.000   1.000  1.000    1.000           1.000   \n",
       "CHEMBL4072        0.985      0.864   0.935  0.897    0.967           0.891   \n",
       "CHEMBL1800        0.987      0.921   0.873  0.895    0.914           0.889   \n",
       "CHEMBL5407        0.977      0.800   1.000  0.889    0.994           0.883   \n",
       "CHEMBL1741186     0.984      0.922   0.861  0.890    0.996           0.882   \n",
       "CHEMBL204         0.982      0.902   0.845  0.872    0.966           0.864   \n",
       "CHEMBL1926488     0.980      0.750   1.000  0.857    0.984           0.857   \n",
       "CHEMBL255         0.990      0.847   0.870  0.855    0.991           0.852   \n",
       "CHEMBL1795117     0.976      0.831   0.870  0.849    0.911           0.837   \n",
       "CHEMBL4361        0.986      1.000   0.722  0.822    0.869           0.836   \n",
       "\n",
       "                  #tr  #ac_tr  accuracy_var  precision_var  recall_var  \\\n",
       "CHEMBL3018       94.0     8.0           0.0          0.000       0.000   \n",
       "CHEMBL4072      200.0    15.0           0.0          0.000       0.003   \n",
       "CHEMBL1800      252.0    15.0           0.0          0.005       0.001   \n",
       "CHEMBL5407       99.0    10.0           0.0          0.000       0.000   \n",
       "CHEMBL1741186   117.0    10.0           0.0          0.005       0.016   \n",
       "CHEMBL204      1525.0   110.0           0.0          0.000       0.001   \n",
       "CHEMBL1926488   116.0     8.0           0.0          0.000       0.000   \n",
       "CHEMBL255       588.0    22.0           0.0          0.001       0.013   \n",
       "CHEMBL1795117    90.0     8.0           0.0          0.023       0.013   \n",
       "CHEMBL4361       63.0     4.0           0.0          0.000       0.065   \n",
       "\n",
       "               f1_var  auc_roc_var  matthews_coeff_var  #tr_var  #ac_tr_var  \\\n",
       "CHEMBL3018      0.000        0.000               0.000      0.0         0.0   \n",
       "CHEMBL4072      0.001        0.001               0.001      0.0         0.0   \n",
       "CHEMBL1800      0.001        0.001               0.001      0.0         0.0   \n",
       "CHEMBL5407      0.000        0.000               0.000      0.0         0.0   \n",
       "CHEMBL1741186   0.010        0.000               0.012      0.0         0.0   \n",
       "CHEMBL204       0.000        0.000               0.000      0.0         0.0   \n",
       "CHEMBL1926488   0.000        0.000               0.000      0.0         0.0   \n",
       "CHEMBL255       0.002        0.000               0.002      0.0         0.0   \n",
       "CHEMBL1795117   0.017        0.006               0.020      0.0         0.0   \n",
       "CHEMBL4361      0.028        0.013               0.023      0.0         0.0   \n",
       "\n",
       "              model  \n",
       "CHEMBL3018      fcn  \n",
       "CHEMBL4072      fcn  \n",
       "CHEMBL1800      fcn  \n",
       "CHEMBL5407      fcn  \n",
       "CHEMBL1741186   fcn  \n",
       "CHEMBL204       fcn  \n",
       "CHEMBL1926488   fcn  \n",
       "CHEMBL255       fcn  \n",
       "CHEMBL1795117   fcn  \n",
       "CHEMBL4361      fcn  "
      ]
     },
     "execution_count": 30,
     "metadata": {},
     "output_type": "execute_result"
    }
   ],
   "source": [
    "fcn_sort = fcn.sort_values(['matthews_coeff'], ascending=False)\n",
    "fcn_sort.head(10)"
   ]
  },
  {
   "cell_type": "code",
   "execution_count": 21,
   "metadata": {},
   "outputs": [
    {
     "data": {
      "application/vnd.plotly.v1+json": {
       "config": {
        "plotlyServerURL": "https://plot.ly"
       },
       "data": [
        {
         "alignmentgroup": "True",
         "boxpoints": "all",
         "fillcolor": "rgba(255,255,255,0)",
         "hoveron": "points",
         "hovertemplate": "<b>%{hovertext}</b><br><br>model=%{x}<br>matthews_coeff=%{y}<extra></extra>",
         "hovertext": [
          "CHEMBL244",
          "CHEMBL204",
          "CHEMBL3594",
          "CHEMBL261",
          "CHEMBL205",
          "CHEMBL264",
          "CHEMBL3242",
          "CHEMBL217",
          "CHEMBL253",
          "CHEMBL3837",
          "CHEMBL236",
          "CHEMBL234",
          "CHEMBL237",
          "CHEMBL251",
          "CHEMBL228",
          "CHEMBL3880",
          "CHEMBL284",
          "CHEMBL255",
          "CHEMBL256",
          "CHEMBL3991",
          "CHEMBL214",
          "CHEMBL344",
          "CHEMBL1075323",
          "CHEMBL2326",
          "CHEMBL233",
          "CHEMBL224",
          "CHEMBL4657",
          "CHEMBL218",
          "CHEMBL2034",
          "CHEMBL267",
          "CHEMBL4793",
          "CHEMBL1902",
          "CHEMBL2147",
          "CHEMBL2820",
          "CHEMBL4409",
          "CHEMBL222",
          "CHEMBL229",
          "CHEMBL3729",
          "CHEMBL4523",
          "CHEMBL1800",
          "CHEMBL1862",
          "CHEMBL3717",
          "CHEMBL226",
          "CHEMBL3371",
          "CHEMBL4308",
          "CHEMBL2954",
          "CHEMBL219",
          "CHEMBL4072",
          "CHEMBL232",
          "CHEMBL335",
          "CHEMBL1871",
          "CHEMBL225",
          "CHEMBL3759",
          "CHEMBL3105",
          "CHEMBL259",
          "CHEMBL238",
          "CHEMBL1855",
          "CHEMBL260",
          "CHEMBL3891",
          "CHEMBL2000",
          "CHEMBL1875",
          "CHEMBL2842",
          "CHEMBL4822",
          "CHEMBL280",
          "CHEMBL3473",
          "CHEMBL3510",
          "CHEMBL2617",
          "CHEMBL6136",
          "CHEMBL2360",
          "CHEMBL1833",
          "CHEMBL1983",
          "CHEMBL1741186",
          "CHEMBL1926488",
          "CHEMBL2971",
          "CHEMBL4792",
          "CHEMBL4005",
          "CHEMBL5023",
          "CHEMBL1898",
          "CHEMBL333",
          "CHEMBL5407",
          "CHEMBL1163125",
          "CHEMBL216",
          "CHEMBL5113",
          "CHEMBL3018",
          "CHEMBL4482",
          "CHEMBL1795117",
          "CHEMBL202",
          "CHEMBL235",
          "CHEMBL3922",
          "CHEMBL2079846",
          "CHEMBL2056",
          "CHEMBL3267",
          "CHEMBL321",
          "CHEMBL4361",
          "CHEMBL1946",
          "CHEMBL2014",
          "CHEMBL3979",
          "CHEMBL208",
          "CHEMBL203",
          "CHEMBL262",
          "CHEMBL244",
          "CHEMBL204",
          "CHEMBL3594",
          "CHEMBL261",
          "CHEMBL205",
          "CHEMBL264",
          "CHEMBL3242",
          "CHEMBL217",
          "CHEMBL253",
          "CHEMBL3837",
          "CHEMBL236",
          "CHEMBL234",
          "CHEMBL237",
          "CHEMBL251",
          "CHEMBL228",
          "CHEMBL3880",
          "CHEMBL284",
          "CHEMBL255",
          "CHEMBL256",
          "CHEMBL3991",
          "CHEMBL214",
          "CHEMBL344",
          "CHEMBL1075323",
          "CHEMBL2326",
          "CHEMBL233",
          "CHEMBL224",
          "CHEMBL4657",
          "CHEMBL218",
          "CHEMBL2034",
          "CHEMBL267",
          "CHEMBL4793",
          "CHEMBL1902",
          "CHEMBL2147",
          "CHEMBL2820",
          "CHEMBL4409",
          "CHEMBL222",
          "CHEMBL229",
          "CHEMBL3729",
          "CHEMBL4523",
          "CHEMBL1800",
          "CHEMBL1862",
          "CHEMBL3717",
          "CHEMBL226",
          "CHEMBL3371",
          "CHEMBL4308",
          "CHEMBL2954",
          "CHEMBL219",
          "CHEMBL4072",
          "CHEMBL232",
          "CHEMBL335",
          "CHEMBL1871",
          "CHEMBL225",
          "CHEMBL3759",
          "CHEMBL3105",
          "CHEMBL259",
          "CHEMBL238",
          "CHEMBL1855",
          "CHEMBL260",
          "CHEMBL3891",
          "CHEMBL2000",
          "CHEMBL1875",
          "CHEMBL2842",
          "CHEMBL4822",
          "CHEMBL280",
          "CHEMBL3473",
          "CHEMBL3510",
          "CHEMBL2617",
          "CHEMBL6136",
          "CHEMBL2360",
          "CHEMBL1833",
          "CHEMBL1983",
          "CHEMBL1741186",
          "CHEMBL1926488",
          "CHEMBL2971",
          "CHEMBL4792",
          "CHEMBL4005",
          "CHEMBL5023",
          "CHEMBL1898",
          "CHEMBL333",
          "CHEMBL5407",
          "CHEMBL1163125",
          "CHEMBL216",
          "CHEMBL5113",
          "CHEMBL3018",
          "CHEMBL4482",
          "CHEMBL1795117",
          "CHEMBL202",
          "CHEMBL235",
          "CHEMBL3922",
          "CHEMBL2079846",
          "CHEMBL2056",
          "CHEMBL3267",
          "CHEMBL321",
          "CHEMBL4361",
          "CHEMBL1946",
          "CHEMBL2014",
          "CHEMBL3979",
          "CHEMBL208",
          "CHEMBL203",
          "CHEMBL262",
          "CHEMBL244",
          "CHEMBL204",
          "CHEMBL3594",
          "CHEMBL261",
          "CHEMBL205",
          "CHEMBL264",
          "CHEMBL3242",
          "CHEMBL217",
          "CHEMBL253",
          "CHEMBL3837",
          "CHEMBL236",
          "CHEMBL234",
          "CHEMBL237",
          "CHEMBL251",
          "CHEMBL228",
          "CHEMBL3880",
          "CHEMBL284",
          "CHEMBL255",
          "CHEMBL256",
          "CHEMBL3991",
          "CHEMBL214",
          "CHEMBL344",
          "CHEMBL1075323",
          "CHEMBL2326",
          "CHEMBL233",
          "CHEMBL224",
          "CHEMBL4657",
          "CHEMBL218",
          "CHEMBL2034",
          "CHEMBL267",
          "CHEMBL4793",
          "CHEMBL1902",
          "CHEMBL2147",
          "CHEMBL2820",
          "CHEMBL4409",
          "CHEMBL222",
          "CHEMBL229",
          "CHEMBL3729",
          "CHEMBL4523",
          "CHEMBL1800",
          "CHEMBL1862",
          "CHEMBL3717",
          "CHEMBL226",
          "CHEMBL3371",
          "CHEMBL4308",
          "CHEMBL2954",
          "CHEMBL219",
          "CHEMBL4072",
          "CHEMBL232",
          "CHEMBL335",
          "CHEMBL1871",
          "CHEMBL225",
          "CHEMBL3759",
          "CHEMBL3105",
          "CHEMBL259",
          "CHEMBL238",
          "CHEMBL1855",
          "CHEMBL260",
          "CHEMBL3891",
          "CHEMBL2000",
          "CHEMBL1875",
          "CHEMBL2842",
          "CHEMBL4822",
          "CHEMBL280",
          "CHEMBL3473",
          "CHEMBL3510",
          "CHEMBL2617",
          "CHEMBL6136",
          "CHEMBL2360",
          "CHEMBL1833",
          "CHEMBL1983",
          "CHEMBL1741186",
          "CHEMBL1926488",
          "CHEMBL2971",
          "CHEMBL4792",
          "CHEMBL4005",
          "CHEMBL5023",
          "CHEMBL1898",
          "CHEMBL333",
          "CHEMBL5407",
          "CHEMBL1163125",
          "CHEMBL216",
          "CHEMBL5113",
          "CHEMBL3018",
          "CHEMBL4482",
          "CHEMBL1795117",
          "CHEMBL202",
          "CHEMBL235",
          "CHEMBL3922",
          "CHEMBL2079846",
          "CHEMBL2056",
          "CHEMBL3267",
          "CHEMBL321",
          "CHEMBL4361",
          "CHEMBL1946",
          "CHEMBL2014",
          "CHEMBL3979",
          "CHEMBL208",
          "CHEMBL203",
          "CHEMBL262",
          "CHEMBL244",
          "CHEMBL204",
          "CHEMBL3594",
          "CHEMBL261",
          "CHEMBL205",
          "CHEMBL264",
          "CHEMBL3242",
          "CHEMBL217",
          "CHEMBL253",
          "CHEMBL3837",
          "CHEMBL236",
          "CHEMBL234",
          "CHEMBL237",
          "CHEMBL251",
          "CHEMBL228",
          "CHEMBL3880",
          "CHEMBL284",
          "CHEMBL255",
          "CHEMBL256",
          "CHEMBL3991",
          "CHEMBL214",
          "CHEMBL344",
          "CHEMBL1075323",
          "CHEMBL2326",
          "CHEMBL233",
          "CHEMBL224",
          "CHEMBL4657",
          "CHEMBL218",
          "CHEMBL2034",
          "CHEMBL267",
          "CHEMBL4793",
          "CHEMBL1902",
          "CHEMBL2147",
          "CHEMBL2820",
          "CHEMBL4409",
          "CHEMBL222",
          "CHEMBL229",
          "CHEMBL3729",
          "CHEMBL4523",
          "CHEMBL1800",
          "CHEMBL1862",
          "CHEMBL3717",
          "CHEMBL226",
          "CHEMBL3371",
          "CHEMBL4308",
          "CHEMBL2954",
          "CHEMBL219",
          "CHEMBL4072",
          "CHEMBL232",
          "CHEMBL335",
          "CHEMBL1871",
          "CHEMBL225",
          "CHEMBL3759",
          "CHEMBL3105",
          "CHEMBL259",
          "CHEMBL238",
          "CHEMBL1855",
          "CHEMBL260",
          "CHEMBL3891",
          "CHEMBL2000",
          "CHEMBL1875",
          "CHEMBL2842",
          "CHEMBL4822",
          "CHEMBL280",
          "CHEMBL3473",
          "CHEMBL3510",
          "CHEMBL2617",
          "CHEMBL6136",
          "CHEMBL2360",
          "CHEMBL1833",
          "CHEMBL1983",
          "CHEMBL1741186",
          "CHEMBL1926488",
          "CHEMBL2971",
          "CHEMBL4792",
          "CHEMBL4005",
          "CHEMBL5023",
          "CHEMBL1898",
          "CHEMBL333",
          "CHEMBL5407",
          "CHEMBL1163125",
          "CHEMBL216",
          "CHEMBL5113",
          "CHEMBL3018",
          "CHEMBL4482",
          "CHEMBL1795117",
          "CHEMBL202",
          "CHEMBL235",
          "CHEMBL3922",
          "CHEMBL2079846",
          "CHEMBL2056",
          "CHEMBL3267",
          "CHEMBL321",
          "CHEMBL4361",
          "CHEMBL1946",
          "CHEMBL2014",
          "CHEMBL3979",
          "CHEMBL208",
          "CHEMBL203",
          "CHEMBL262",
          "CHEMBL244",
          "CHEMBL204",
          "CHEMBL3594",
          "CHEMBL261",
          "CHEMBL205",
          "CHEMBL264",
          "CHEMBL3242",
          "CHEMBL217",
          "CHEMBL253",
          "CHEMBL3837",
          "CHEMBL236",
          "CHEMBL234",
          "CHEMBL237",
          "CHEMBL251",
          "CHEMBL228",
          "CHEMBL3880",
          "CHEMBL284",
          "CHEMBL255",
          "CHEMBL256",
          "CHEMBL3991",
          "CHEMBL214",
          "CHEMBL344",
          "CHEMBL1075323",
          "CHEMBL2326",
          "CHEMBL233",
          "CHEMBL224",
          "CHEMBL4657",
          "CHEMBL218",
          "CHEMBL2034",
          "CHEMBL267",
          "CHEMBL4793",
          "CHEMBL1902",
          "CHEMBL2147",
          "CHEMBL2820",
          "CHEMBL4409",
          "CHEMBL222",
          "CHEMBL229",
          "CHEMBL3729",
          "CHEMBL4523",
          "CHEMBL1800",
          "CHEMBL1862",
          "CHEMBL3717",
          "CHEMBL226",
          "CHEMBL3371",
          "CHEMBL4308",
          "CHEMBL2954",
          "CHEMBL219",
          "CHEMBL4072",
          "CHEMBL232",
          "CHEMBL335",
          "CHEMBL1871",
          "CHEMBL225",
          "CHEMBL3759",
          "CHEMBL3105",
          "CHEMBL259",
          "CHEMBL238",
          "CHEMBL1855",
          "CHEMBL260",
          "CHEMBL3891",
          "CHEMBL2000",
          "CHEMBL1875",
          "CHEMBL2842",
          "CHEMBL4822",
          "CHEMBL280",
          "CHEMBL3473",
          "CHEMBL3510",
          "CHEMBL2617",
          "CHEMBL6136",
          "CHEMBL2360",
          "CHEMBL1833",
          "CHEMBL1983",
          "CHEMBL1741186",
          "CHEMBL1926488",
          "CHEMBL2971",
          "CHEMBL4792",
          "CHEMBL4005",
          "CHEMBL5023",
          "CHEMBL1898",
          "CHEMBL333",
          "CHEMBL5407",
          "CHEMBL1163125",
          "CHEMBL216",
          "CHEMBL5113",
          "CHEMBL3018",
          "CHEMBL4482",
          "CHEMBL1795117",
          "CHEMBL202",
          "CHEMBL235",
          "CHEMBL3922",
          "CHEMBL2079846",
          "CHEMBL2056",
          "CHEMBL3267",
          "CHEMBL321",
          "CHEMBL4361",
          "CHEMBL1946",
          "CHEMBL2014",
          "CHEMBL3979",
          "CHEMBL208",
          "CHEMBL203",
          "CHEMBL262"
         ],
         "legendgroup": "",
         "line": {
          "color": "rgba(255,255,255,0)"
         },
         "marker": {
          "color": "#636efa"
         },
         "name": "",
         "offsetgroup": "",
         "orientation": "v",
         "pointpos": 0,
         "showlegend": false,
         "type": "box",
         "x": [
          "svm",
          "svm",
          "svm",
          "svm",
          "svm",
          "svm",
          "svm",
          "svm",
          "svm",
          "svm",
          "svm",
          "svm",
          "svm",
          "svm",
          "svm",
          "svm",
          "svm",
          "svm",
          "svm",
          "svm",
          "svm",
          "svm",
          "svm",
          "svm",
          "svm",
          "svm",
          "svm",
          "svm",
          "svm",
          "svm",
          "svm",
          "svm",
          "svm",
          "svm",
          "svm",
          "svm",
          "svm",
          "svm",
          "svm",
          "svm",
          "svm",
          "svm",
          "svm",
          "svm",
          "svm",
          "svm",
          "svm",
          "svm",
          "svm",
          "svm",
          "svm",
          "svm",
          "svm",
          "svm",
          "svm",
          "svm",
          "svm",
          "svm",
          "svm",
          "svm",
          "svm",
          "svm",
          "svm",
          "svm",
          "svm",
          "svm",
          "svm",
          "svm",
          "svm",
          "svm",
          "svm",
          "svm",
          "svm",
          "svm",
          "svm",
          "svm",
          "svm",
          "svm",
          "svm",
          "svm",
          "svm",
          "svm",
          "svm",
          "svm",
          "svm",
          "svm",
          "svm",
          "svm",
          "svm",
          "svm",
          "svm",
          "svm",
          "svm",
          "svm",
          "svm",
          "svm",
          "svm",
          "svm",
          "svm",
          "svm",
          "xgb",
          "xgb",
          "xgb",
          "xgb",
          "xgb",
          "xgb",
          "xgb",
          "xgb",
          "xgb",
          "xgb",
          "xgb",
          "xgb",
          "xgb",
          "xgb",
          "xgb",
          "xgb",
          "xgb",
          "xgb",
          "xgb",
          "xgb",
          "xgb",
          "xgb",
          "xgb",
          "xgb",
          "xgb",
          "xgb",
          "xgb",
          "xgb",
          "xgb",
          "xgb",
          "xgb",
          "xgb",
          "xgb",
          "xgb",
          "xgb",
          "xgb",
          "xgb",
          "xgb",
          "xgb",
          "xgb",
          "xgb",
          "xgb",
          "xgb",
          "xgb",
          "xgb",
          "xgb",
          "xgb",
          "xgb",
          "xgb",
          "xgb",
          "xgb",
          "xgb",
          "xgb",
          "xgb",
          "xgb",
          "xgb",
          "xgb",
          "xgb",
          "xgb",
          "xgb",
          "xgb",
          "xgb",
          "xgb",
          "xgb",
          "xgb",
          "xgb",
          "xgb",
          "xgb",
          "xgb",
          "xgb",
          "xgb",
          "xgb",
          "xgb",
          "xgb",
          "xgb",
          "xgb",
          "xgb",
          "xgb",
          "xgb",
          "xgb",
          "xgb",
          "xgb",
          "xgb",
          "xgb",
          "xgb",
          "xgb",
          "xgb",
          "xgb",
          "xgb",
          "xgb",
          "xgb",
          "xgb",
          "xgb",
          "xgb",
          "xgb",
          "xgb",
          "xgb",
          "xgb",
          "xgb",
          "xgb",
          "rf",
          "rf",
          "rf",
          "rf",
          "rf",
          "rf",
          "rf",
          "rf",
          "rf",
          "rf",
          "rf",
          "rf",
          "rf",
          "rf",
          "rf",
          "rf",
          "rf",
          "rf",
          "rf",
          "rf",
          "rf",
          "rf",
          "rf",
          "rf",
          "rf",
          "rf",
          "rf",
          "rf",
          "rf",
          "rf",
          "rf",
          "rf",
          "rf",
          "rf",
          "rf",
          "rf",
          "rf",
          "rf",
          "rf",
          "rf",
          "rf",
          "rf",
          "rf",
          "rf",
          "rf",
          "rf",
          "rf",
          "rf",
          "rf",
          "rf",
          "rf",
          "rf",
          "rf",
          "rf",
          "rf",
          "rf",
          "rf",
          "rf",
          "rf",
          "rf",
          "rf",
          "rf",
          "rf",
          "rf",
          "rf",
          "rf",
          "rf",
          "rf",
          "rf",
          "rf",
          "rf",
          "rf",
          "rf",
          "rf",
          "rf",
          "rf",
          "rf",
          "rf",
          "rf",
          "rf",
          "rf",
          "rf",
          "rf",
          "rf",
          "rf",
          "rf",
          "rf",
          "rf",
          "rf",
          "rf",
          "rf",
          "rf",
          "rf",
          "rf",
          "rf",
          "rf",
          "rf",
          "rf",
          "rf",
          "rf",
          "fcn",
          "fcn",
          "fcn",
          "fcn",
          "fcn",
          "fcn",
          "fcn",
          "fcn",
          "fcn",
          "fcn",
          "fcn",
          "fcn",
          "fcn",
          "fcn",
          "fcn",
          "fcn",
          "fcn",
          "fcn",
          "fcn",
          "fcn",
          "fcn",
          "fcn",
          "fcn",
          "fcn",
          "fcn",
          "fcn",
          "fcn",
          "fcn",
          "fcn",
          "fcn",
          "fcn",
          "fcn",
          "fcn",
          "fcn",
          "fcn",
          "fcn",
          "fcn",
          "fcn",
          "fcn",
          "fcn",
          "fcn",
          "fcn",
          "fcn",
          "fcn",
          "fcn",
          "fcn",
          "fcn",
          "fcn",
          "fcn",
          "fcn",
          "fcn",
          "fcn",
          "fcn",
          "fcn",
          "fcn",
          "fcn",
          "fcn",
          "fcn",
          "fcn",
          "fcn",
          "fcn",
          "fcn",
          "fcn",
          "fcn",
          "fcn",
          "fcn",
          "fcn",
          "fcn",
          "fcn",
          "fcn",
          "fcn",
          "fcn",
          "fcn",
          "fcn",
          "fcn",
          "fcn",
          "fcn",
          "fcn",
          "fcn",
          "fcn",
          "fcn",
          "fcn",
          "fcn",
          "fcn",
          "fcn",
          "fcn",
          "fcn",
          "fcn",
          "fcn",
          "fcn",
          "fcn",
          "fcn",
          "fcn",
          "fcn",
          "fcn",
          "fcn",
          "fcn",
          "fcn",
          "fcn",
          "fcn",
          "mpn",
          "mpn",
          "mpn",
          "mpn",
          "mpn",
          "mpn",
          "mpn",
          "mpn",
          "mpn",
          "mpn",
          "mpn",
          "mpn",
          "mpn",
          "mpn",
          "mpn",
          "mpn",
          "mpn",
          "mpn",
          "mpn",
          "mpn",
          "mpn",
          "mpn",
          "mpn",
          "mpn",
          "mpn",
          "mpn",
          "mpn",
          "mpn",
          "mpn",
          "mpn",
          "mpn",
          "mpn",
          "mpn",
          "mpn",
          "mpn",
          "mpn",
          "mpn",
          "mpn",
          "mpn",
          "mpn",
          "mpn",
          "mpn",
          "mpn",
          "mpn",
          "mpn",
          "mpn",
          "mpn",
          "mpn",
          "mpn",
          "mpn",
          "mpn",
          "mpn",
          "mpn",
          "mpn",
          "mpn",
          "mpn",
          "mpn",
          "mpn",
          "mpn",
          "mpn",
          "mpn",
          "mpn",
          "mpn",
          "mpn",
          "mpn",
          "mpn",
          "mpn",
          "mpn",
          "mpn",
          "mpn",
          "mpn",
          "mpn",
          "mpn",
          "mpn",
          "mpn",
          "mpn",
          "mpn",
          "mpn",
          "mpn",
          "mpn",
          "mpn",
          "mpn",
          "mpn",
          "mpn",
          "mpn",
          "mpn",
          "mpn",
          "mpn",
          "mpn",
          "mpn",
          "mpn",
          "mpn",
          "mpn",
          "mpn",
          "mpn",
          "mpn",
          "mpn",
          "mpn",
          "mpn",
          "mpn"
         ],
         "x0": " ",
         "xaxis": "x",
         "y": [
          0.7659999999999999,
          0.853,
          0.542,
          0.598,
          0.469,
          0.541,
          0.564,
          0.474,
          0.746,
          0.415,
          0.511,
          0.537,
          0.69,
          0.568,
          0.498,
          0.534,
          0.5710000000000001,
          0.779,
          0.607,
          0.877,
          0.62,
          0.6659999999999999,
          0.401,
          0.428,
          0.615,
          0.49700000000000005,
          0.222,
          0.517,
          0.45799999999999996,
          0.23399999999999999,
          0.46399999999999997,
          0.772,
          0.8340000000000001,
          0.8690000000000001,
          0.501,
          0.423,
          0.386,
          0.85,
          0.948,
          0.9229999999999999,
          0.183,
          0.609,
          0.431,
          0.59,
          0.625,
          0.885,
          0.425,
          0.688,
          0.455,
          0.8140000000000001,
          0.721,
          0.552,
          0.72,
          0,
          0.327,
          0.748,
          0.725,
          0.348,
          0.318,
          0.4,
          0.10800000000000001,
          0.161,
          0.836,
          0.5379999999999999,
          0.08900000000000001,
          0.268,
          -0.008,
          0.08,
          0.31,
          0.493,
          0.8,
          0.83,
          0.857,
          0.39299999999999996,
          0.223,
          0.5579999999999999,
          0.8490000000000001,
          0.34700000000000003,
          1,
          0.897,
          0.233,
          -0.011000000000000001,
          0.725,
          0.33299999999999996,
          0.375,
          0.33299999999999996,
          0.5329999999999999,
          0.213,
          0.23199999999999998,
          0.099,
          0,
          0.215,
          0.231,
          0,
          -0.023,
          -0.047,
          0,
          0,
          -0.03,
          0,
          0.6709999999999999,
          0.774,
          0.425,
          0.297,
          0.369,
          0.41700000000000004,
          0.158,
          0.37799999999999995,
          0.727,
          0.539,
          0.109,
          0.29100000000000004,
          0.402,
          0.14800000000000002,
          0,
          0.124,
          0.179,
          0,
          0.175,
          0.708,
          0.214,
          0.182,
          0.07400000000000001,
          0,
          0.41600000000000004,
          0.358,
          0,
          0.22699999999999998,
          0.179,
          0.115,
          0,
          0.37,
          0,
          0.17800000000000002,
          0,
          0.215,
          0.147,
          0.138,
          0.27899999999999997,
          0.586,
          0.14300000000000002,
          0.146,
          0,
          0,
          0,
          0,
          0,
          0,
          0,
          0.244,
          0.145,
          0,
          -0.016,
          0,
          0,
          0,
          0,
          0,
          0,
          0,
          0,
          0,
          0,
          0,
          -0.013999999999999999,
          0,
          0,
          0,
          0,
          0,
          0,
          0,
          0.474,
          0,
          0,
          0,
          0.161,
          0,
          0,
          0.285,
          0,
          0,
          0.537,
          0,
          0,
          0,
          0,
          0,
          0,
          0,
          0,
          0,
          0,
          0,
          0,
          0,
          0,
          0,
          0,
          0,
          0.718,
          0.89,
          0.523,
          0.43200000000000005,
          0.36,
          0.529,
          0.535,
          0.223,
          0.7829999999999999,
          0.6629999999999999,
          0.436,
          0.5870000000000001,
          0.662,
          0.38799999999999996,
          0.43200000000000005,
          0.469,
          0.441,
          0.71,
          0.518,
          0.902,
          0.5720000000000001,
          0.636,
          0.182,
          0.363,
          0.562,
          0.26899999999999996,
          0.17600000000000002,
          0.652,
          0.33899999999999997,
          0.102,
          0,
          0.622,
          0.684,
          0.721,
          0.154,
          0.46,
          0.41600000000000004,
          0.752,
          0.948,
          0.865,
          0.187,
          0.561,
          0.165,
          0.613,
          0.26899999999999996,
          0.848,
          0.29100000000000004,
          0.84,
          0,
          0.627,
          0.6859999999999999,
          0.62,
          0.73,
          0,
          0,
          0.581,
          0.514,
          0.504,
          0,
          0.1,
          0,
          0,
          0.47700000000000004,
          -0.013000000000000001,
          0.11800000000000001,
          0.153,
          0,
          0,
          0.45799999999999996,
          0.377,
          0.467,
          0.898,
          0.41200000000000003,
          0.40299999999999997,
          -0.02,
          0.188,
          0.677,
          0.381,
          0.904,
          0.9520000000000001,
          0,
          0,
          0.563,
          1,
          0,
          0.546,
          0.29100000000000004,
          0,
          0,
          0,
          0,
          -0.017,
          -0.034,
          0.33299999999999996,
          0,
          0,
          0,
          0,
          0,
          0.23,
          0.8029999999999999,
          0.8640000000000001,
          0.541,
          0.526,
          0.429,
          0.604,
          0.563,
          0.39299999999999996,
          0.695,
          0.706,
          0.693,
          0.56,
          0.813,
          0.591,
          0.409,
          0.57,
          0.527,
          0.852,
          0.703,
          0.768,
          0.7879999999999999,
          0.737,
          0.41700000000000004,
          0.39,
          0.634,
          0.62,
          0.23199999999999998,
          0.479,
          0.484,
          0.243,
          0.575,
          0.779,
          0.818,
          0.65,
          0.621,
          0.321,
          0.5479999999999999,
          0.75,
          0.831,
          0.889,
          0.466,
          0.562,
          0.424,
          0.524,
          0.275,
          0.706,
          0.516,
          0.8909999999999999,
          0.21100000000000002,
          0.618,
          0.7040000000000001,
          0.568,
          0.639,
          0.319,
          0,
          0.701,
          0.5920000000000001,
          0.446,
          0.062,
          0.18600000000000003,
          0.10400000000000001,
          0.342,
          0.644,
          0.414,
          0.14,
          0.40399999999999997,
          -0.012,
          0.47700000000000004,
          0.048,
          0.342,
          0.589,
          0.882,
          0.857,
          0.52,
          0.41600000000000004,
          0.11,
          0.705,
          -0.022000000000000002,
          0.813,
          0.883,
          -0.013000000000000001,
          0.47200000000000003,
          0.8270000000000001,
          1,
          0.526,
          0.8370000000000001,
          0.28,
          -0.049,
          0.08900000000000001,
          -0.027999999999999997,
          0,
          0,
          0.159,
          0.836,
          0.6579999999999999,
          -0.073,
          0,
          -0.03,
          -0.065,
          0.605,
          0,
          0,
          0,
          0,
          0,
          0,
          0,
          0,
          0,
          0,
          0,
          0,
          0,
          0,
          0,
          0,
          0,
          0,
          0,
          0,
          0,
          0,
          0,
          0,
          0,
          0,
          0,
          0,
          0,
          0,
          0,
          0,
          0,
          0,
          0,
          0,
          0,
          0,
          0,
          0,
          0,
          0,
          0,
          0,
          0,
          0,
          0,
          0,
          0,
          0,
          0,
          0,
          0,
          0,
          0,
          0,
          0,
          0,
          0,
          0,
          0,
          0,
          0,
          0,
          0,
          0,
          0,
          0,
          0,
          0,
          0,
          0,
          0,
          0,
          0,
          0,
          0,
          0,
          0,
          0,
          0,
          0,
          0,
          0,
          0,
          0,
          0,
          0,
          0,
          0,
          0,
          0,
          0,
          0,
          0,
          0,
          0,
          0,
          0,
          0
         ],
         "y0": " ",
         "yaxis": "y"
        }
       ],
       "layout": {
        "boxmode": "group",
        "height": 300,
        "legend": {
         "tracegroupgap": 0
        },
        "margin": {
         "t": 60
        },
        "template": {
         "data": {
          "bar": [
           {
            "error_x": {
             "color": "#2a3f5f"
            },
            "error_y": {
             "color": "#2a3f5f"
            },
            "marker": {
             "line": {
              "color": "#E5ECF6",
              "width": 0.5
             },
             "pattern": {
              "fillmode": "overlay",
              "size": 10,
              "solidity": 0.2
             }
            },
            "type": "bar"
           }
          ],
          "barpolar": [
           {
            "marker": {
             "line": {
              "color": "#E5ECF6",
              "width": 0.5
             },
             "pattern": {
              "fillmode": "overlay",
              "size": 10,
              "solidity": 0.2
             }
            },
            "type": "barpolar"
           }
          ],
          "carpet": [
           {
            "aaxis": {
             "endlinecolor": "#2a3f5f",
             "gridcolor": "white",
             "linecolor": "white",
             "minorgridcolor": "white",
             "startlinecolor": "#2a3f5f"
            },
            "baxis": {
             "endlinecolor": "#2a3f5f",
             "gridcolor": "white",
             "linecolor": "white",
             "minorgridcolor": "white",
             "startlinecolor": "#2a3f5f"
            },
            "type": "carpet"
           }
          ],
          "choropleth": [
           {
            "colorbar": {
             "outlinewidth": 0,
             "ticks": ""
            },
            "type": "choropleth"
           }
          ],
          "contour": [
           {
            "colorbar": {
             "outlinewidth": 0,
             "ticks": ""
            },
            "colorscale": [
             [
              0,
              "#0d0887"
             ],
             [
              0.1111111111111111,
              "#46039f"
             ],
             [
              0.2222222222222222,
              "#7201a8"
             ],
             [
              0.3333333333333333,
              "#9c179e"
             ],
             [
              0.4444444444444444,
              "#bd3786"
             ],
             [
              0.5555555555555556,
              "#d8576b"
             ],
             [
              0.6666666666666666,
              "#ed7953"
             ],
             [
              0.7777777777777778,
              "#fb9f3a"
             ],
             [
              0.8888888888888888,
              "#fdca26"
             ],
             [
              1,
              "#f0f921"
             ]
            ],
            "type": "contour"
           }
          ],
          "contourcarpet": [
           {
            "colorbar": {
             "outlinewidth": 0,
             "ticks": ""
            },
            "type": "contourcarpet"
           }
          ],
          "heatmap": [
           {
            "colorbar": {
             "outlinewidth": 0,
             "ticks": ""
            },
            "colorscale": [
             [
              0,
              "#0d0887"
             ],
             [
              0.1111111111111111,
              "#46039f"
             ],
             [
              0.2222222222222222,
              "#7201a8"
             ],
             [
              0.3333333333333333,
              "#9c179e"
             ],
             [
              0.4444444444444444,
              "#bd3786"
             ],
             [
              0.5555555555555556,
              "#d8576b"
             ],
             [
              0.6666666666666666,
              "#ed7953"
             ],
             [
              0.7777777777777778,
              "#fb9f3a"
             ],
             [
              0.8888888888888888,
              "#fdca26"
             ],
             [
              1,
              "#f0f921"
             ]
            ],
            "type": "heatmap"
           }
          ],
          "heatmapgl": [
           {
            "colorbar": {
             "outlinewidth": 0,
             "ticks": ""
            },
            "colorscale": [
             [
              0,
              "#0d0887"
             ],
             [
              0.1111111111111111,
              "#46039f"
             ],
             [
              0.2222222222222222,
              "#7201a8"
             ],
             [
              0.3333333333333333,
              "#9c179e"
             ],
             [
              0.4444444444444444,
              "#bd3786"
             ],
             [
              0.5555555555555556,
              "#d8576b"
             ],
             [
              0.6666666666666666,
              "#ed7953"
             ],
             [
              0.7777777777777778,
              "#fb9f3a"
             ],
             [
              0.8888888888888888,
              "#fdca26"
             ],
             [
              1,
              "#f0f921"
             ]
            ],
            "type": "heatmapgl"
           }
          ],
          "histogram": [
           {
            "marker": {
             "pattern": {
              "fillmode": "overlay",
              "size": 10,
              "solidity": 0.2
             }
            },
            "type": "histogram"
           }
          ],
          "histogram2d": [
           {
            "colorbar": {
             "outlinewidth": 0,
             "ticks": ""
            },
            "colorscale": [
             [
              0,
              "#0d0887"
             ],
             [
              0.1111111111111111,
              "#46039f"
             ],
             [
              0.2222222222222222,
              "#7201a8"
             ],
             [
              0.3333333333333333,
              "#9c179e"
             ],
             [
              0.4444444444444444,
              "#bd3786"
             ],
             [
              0.5555555555555556,
              "#d8576b"
             ],
             [
              0.6666666666666666,
              "#ed7953"
             ],
             [
              0.7777777777777778,
              "#fb9f3a"
             ],
             [
              0.8888888888888888,
              "#fdca26"
             ],
             [
              1,
              "#f0f921"
             ]
            ],
            "type": "histogram2d"
           }
          ],
          "histogram2dcontour": [
           {
            "colorbar": {
             "outlinewidth": 0,
             "ticks": ""
            },
            "colorscale": [
             [
              0,
              "#0d0887"
             ],
             [
              0.1111111111111111,
              "#46039f"
             ],
             [
              0.2222222222222222,
              "#7201a8"
             ],
             [
              0.3333333333333333,
              "#9c179e"
             ],
             [
              0.4444444444444444,
              "#bd3786"
             ],
             [
              0.5555555555555556,
              "#d8576b"
             ],
             [
              0.6666666666666666,
              "#ed7953"
             ],
             [
              0.7777777777777778,
              "#fb9f3a"
             ],
             [
              0.8888888888888888,
              "#fdca26"
             ],
             [
              1,
              "#f0f921"
             ]
            ],
            "type": "histogram2dcontour"
           }
          ],
          "mesh3d": [
           {
            "colorbar": {
             "outlinewidth": 0,
             "ticks": ""
            },
            "type": "mesh3d"
           }
          ],
          "parcoords": [
           {
            "line": {
             "colorbar": {
              "outlinewidth": 0,
              "ticks": ""
             }
            },
            "type": "parcoords"
           }
          ],
          "pie": [
           {
            "automargin": true,
            "type": "pie"
           }
          ],
          "scatter": [
           {
            "marker": {
             "colorbar": {
              "outlinewidth": 0,
              "ticks": ""
             }
            },
            "type": "scatter"
           }
          ],
          "scatter3d": [
           {
            "line": {
             "colorbar": {
              "outlinewidth": 0,
              "ticks": ""
             }
            },
            "marker": {
             "colorbar": {
              "outlinewidth": 0,
              "ticks": ""
             }
            },
            "type": "scatter3d"
           }
          ],
          "scattercarpet": [
           {
            "marker": {
             "colorbar": {
              "outlinewidth": 0,
              "ticks": ""
             }
            },
            "type": "scattercarpet"
           }
          ],
          "scattergeo": [
           {
            "marker": {
             "colorbar": {
              "outlinewidth": 0,
              "ticks": ""
             }
            },
            "type": "scattergeo"
           }
          ],
          "scattergl": [
           {
            "marker": {
             "colorbar": {
              "outlinewidth": 0,
              "ticks": ""
             }
            },
            "type": "scattergl"
           }
          ],
          "scattermapbox": [
           {
            "marker": {
             "colorbar": {
              "outlinewidth": 0,
              "ticks": ""
             }
            },
            "type": "scattermapbox"
           }
          ],
          "scatterpolar": [
           {
            "marker": {
             "colorbar": {
              "outlinewidth": 0,
              "ticks": ""
             }
            },
            "type": "scatterpolar"
           }
          ],
          "scatterpolargl": [
           {
            "marker": {
             "colorbar": {
              "outlinewidth": 0,
              "ticks": ""
             }
            },
            "type": "scatterpolargl"
           }
          ],
          "scatterternary": [
           {
            "marker": {
             "colorbar": {
              "outlinewidth": 0,
              "ticks": ""
             }
            },
            "type": "scatterternary"
           }
          ],
          "surface": [
           {
            "colorbar": {
             "outlinewidth": 0,
             "ticks": ""
            },
            "colorscale": [
             [
              0,
              "#0d0887"
             ],
             [
              0.1111111111111111,
              "#46039f"
             ],
             [
              0.2222222222222222,
              "#7201a8"
             ],
             [
              0.3333333333333333,
              "#9c179e"
             ],
             [
              0.4444444444444444,
              "#bd3786"
             ],
             [
              0.5555555555555556,
              "#d8576b"
             ],
             [
              0.6666666666666666,
              "#ed7953"
             ],
             [
              0.7777777777777778,
              "#fb9f3a"
             ],
             [
              0.8888888888888888,
              "#fdca26"
             ],
             [
              1,
              "#f0f921"
             ]
            ],
            "type": "surface"
           }
          ],
          "table": [
           {
            "cells": {
             "fill": {
              "color": "#EBF0F8"
             },
             "line": {
              "color": "white"
             }
            },
            "header": {
             "fill": {
              "color": "#C8D4E3"
             },
             "line": {
              "color": "white"
             }
            },
            "type": "table"
           }
          ]
         },
         "layout": {
          "annotationdefaults": {
           "arrowcolor": "#2a3f5f",
           "arrowhead": 0,
           "arrowwidth": 1
          },
          "autotypenumbers": "strict",
          "coloraxis": {
           "colorbar": {
            "outlinewidth": 0,
            "ticks": ""
           }
          },
          "colorscale": {
           "diverging": [
            [
             0,
             "#8e0152"
            ],
            [
             0.1,
             "#c51b7d"
            ],
            [
             0.2,
             "#de77ae"
            ],
            [
             0.3,
             "#f1b6da"
            ],
            [
             0.4,
             "#fde0ef"
            ],
            [
             0.5,
             "#f7f7f7"
            ],
            [
             0.6,
             "#e6f5d0"
            ],
            [
             0.7,
             "#b8e186"
            ],
            [
             0.8,
             "#7fbc41"
            ],
            [
             0.9,
             "#4d9221"
            ],
            [
             1,
             "#276419"
            ]
           ],
           "sequential": [
            [
             0,
             "#0d0887"
            ],
            [
             0.1111111111111111,
             "#46039f"
            ],
            [
             0.2222222222222222,
             "#7201a8"
            ],
            [
             0.3333333333333333,
             "#9c179e"
            ],
            [
             0.4444444444444444,
             "#bd3786"
            ],
            [
             0.5555555555555556,
             "#d8576b"
            ],
            [
             0.6666666666666666,
             "#ed7953"
            ],
            [
             0.7777777777777778,
             "#fb9f3a"
            ],
            [
             0.8888888888888888,
             "#fdca26"
            ],
            [
             1,
             "#f0f921"
            ]
           ],
           "sequentialminus": [
            [
             0,
             "#0d0887"
            ],
            [
             0.1111111111111111,
             "#46039f"
            ],
            [
             0.2222222222222222,
             "#7201a8"
            ],
            [
             0.3333333333333333,
             "#9c179e"
            ],
            [
             0.4444444444444444,
             "#bd3786"
            ],
            [
             0.5555555555555556,
             "#d8576b"
            ],
            [
             0.6666666666666666,
             "#ed7953"
            ],
            [
             0.7777777777777778,
             "#fb9f3a"
            ],
            [
             0.8888888888888888,
             "#fdca26"
            ],
            [
             1,
             "#f0f921"
            ]
           ]
          },
          "colorway": [
           "#636efa",
           "#EF553B",
           "#00cc96",
           "#ab63fa",
           "#FFA15A",
           "#19d3f3",
           "#FF6692",
           "#B6E880",
           "#FF97FF",
           "#FECB52"
          ],
          "font": {
           "color": "#2a3f5f"
          },
          "geo": {
           "bgcolor": "white",
           "lakecolor": "white",
           "landcolor": "#E5ECF6",
           "showlakes": true,
           "showland": true,
           "subunitcolor": "white"
          },
          "hoverlabel": {
           "align": "left"
          },
          "hovermode": "closest",
          "mapbox": {
           "style": "light"
          },
          "paper_bgcolor": "white",
          "plot_bgcolor": "#E5ECF6",
          "polar": {
           "angularaxis": {
            "gridcolor": "white",
            "linecolor": "white",
            "ticks": ""
           },
           "bgcolor": "#E5ECF6",
           "radialaxis": {
            "gridcolor": "white",
            "linecolor": "white",
            "ticks": ""
           }
          },
          "scene": {
           "xaxis": {
            "backgroundcolor": "#E5ECF6",
            "gridcolor": "white",
            "gridwidth": 2,
            "linecolor": "white",
            "showbackground": true,
            "ticks": "",
            "zerolinecolor": "white"
           },
           "yaxis": {
            "backgroundcolor": "#E5ECF6",
            "gridcolor": "white",
            "gridwidth": 2,
            "linecolor": "white",
            "showbackground": true,
            "ticks": "",
            "zerolinecolor": "white"
           },
           "zaxis": {
            "backgroundcolor": "#E5ECF6",
            "gridcolor": "white",
            "gridwidth": 2,
            "linecolor": "white",
            "showbackground": true,
            "ticks": "",
            "zerolinecolor": "white"
           }
          },
          "shapedefaults": {
           "line": {
            "color": "#2a3f5f"
           }
          },
          "ternary": {
           "aaxis": {
            "gridcolor": "white",
            "linecolor": "white",
            "ticks": ""
           },
           "baxis": {
            "gridcolor": "white",
            "linecolor": "white",
            "ticks": ""
           },
           "bgcolor": "#E5ECF6",
           "caxis": {
            "gridcolor": "white",
            "linecolor": "white",
            "ticks": ""
           }
          },
          "title": {
           "x": 0.05
          },
          "xaxis": {
           "automargin": true,
           "gridcolor": "white",
           "linecolor": "white",
           "ticks": "",
           "title": {
            "standoff": 15
           },
           "zerolinecolor": "white",
           "zerolinewidth": 2
          },
          "yaxis": {
           "automargin": true,
           "gridcolor": "white",
           "linecolor": "white",
           "ticks": "",
           "title": {
            "standoff": 15
           },
           "zerolinecolor": "white",
           "zerolinewidth": 2
          }
         }
        },
        "width": 600,
        "xaxis": {
         "anchor": "y",
         "domain": [
          0,
          1
         ],
         "title": {
          "text": "model"
         }
        },
        "yaxis": {
         "anchor": "x",
         "domain": [
          0,
          1
         ],
         "title": {
          "text": "matthews_coeff"
         }
        }
       }
      }
     },
     "metadata": {},
     "output_type": "display_data"
    }
   ],
   "source": [
    "all_score['#tr'] = all_score['#tr'].astype(int)\n",
    "    \n",
    "px.strip(data_frame = all_score,\n",
    "         x          = 'model',\n",
    "         y          = 'matthews_coeff',\n",
    "         hover_name = list(all_score.index),\n",
    "         height     = 300,\n",
    "         width      = 600,\n",
    "         #color      = '#tr',\n",
    "        )"
   ]
  },
  {
   "cell_type": "code",
   "execution_count": 22,
   "metadata": {},
   "outputs": [
    {
     "data": {
      "application/vnd.plotly.v1+json": {
       "config": {
        "plotlyServerURL": "https://plot.ly"
       },
       "data": [
        {
         "alignmentgroup": "True",
         "boxpoints": "all",
         "fillcolor": "rgba(255,255,255,0)",
         "hoveron": "points",
         "hovertemplate": "<b>%{hovertext}</b><br><br>x=%{x}<br>y=%{y}<extra></extra>",
         "hovertext": [
          "CHEMBL244",
          "CHEMBL204",
          "CHEMBL3594",
          "CHEMBL261",
          "CHEMBL205",
          "CHEMBL264",
          "CHEMBL3242",
          "CHEMBL217",
          "CHEMBL253",
          "CHEMBL3837",
          "CHEMBL236",
          "CHEMBL234",
          "CHEMBL237",
          "CHEMBL251",
          "CHEMBL228",
          "CHEMBL3880",
          "CHEMBL284",
          "CHEMBL255",
          "CHEMBL256",
          "CHEMBL3991",
          "CHEMBL214",
          "CHEMBL344",
          "CHEMBL1075323",
          "CHEMBL2326",
          "CHEMBL233",
          "CHEMBL224",
          "CHEMBL4657",
          "CHEMBL218",
          "CHEMBL2034",
          "CHEMBL267",
          "CHEMBL4793",
          "CHEMBL1902",
          "CHEMBL2147",
          "CHEMBL2820",
          "CHEMBL4409",
          "CHEMBL222",
          "CHEMBL229",
          "CHEMBL3729",
          "CHEMBL4523",
          "CHEMBL1800",
          "CHEMBL1862",
          "CHEMBL3717",
          "CHEMBL226",
          "CHEMBL3371",
          "CHEMBL4308",
          "CHEMBL2954",
          "CHEMBL219",
          "CHEMBL4072",
          "CHEMBL232",
          "CHEMBL335",
          "CHEMBL1871",
          "CHEMBL225",
          "CHEMBL3759",
          "CHEMBL3105",
          "CHEMBL259",
          "CHEMBL238",
          "CHEMBL1855",
          "CHEMBL260",
          "CHEMBL3891",
          "CHEMBL2000",
          "CHEMBL1875",
          "CHEMBL2842",
          "CHEMBL4822",
          "CHEMBL280",
          "CHEMBL3473",
          "CHEMBL3510",
          "CHEMBL2617",
          "CHEMBL6136",
          "CHEMBL2360",
          "CHEMBL1833",
          "CHEMBL1983",
          "CHEMBL1741186",
          "CHEMBL1926488",
          "CHEMBL2971",
          "CHEMBL4792",
          "CHEMBL4005",
          "CHEMBL5023",
          "CHEMBL1898",
          "CHEMBL333",
          "CHEMBL5407",
          "CHEMBL1163125",
          "CHEMBL216",
          "CHEMBL5113",
          "CHEMBL3018",
          "CHEMBL4482",
          "CHEMBL1795117",
          "CHEMBL202",
          "CHEMBL235",
          "CHEMBL3922",
          "CHEMBL2079846",
          "CHEMBL2056",
          "CHEMBL3267",
          "CHEMBL321",
          "CHEMBL4361",
          "CHEMBL1946",
          "CHEMBL2014",
          "CHEMBL3979",
          "CHEMBL208",
          "CHEMBL203",
          "CHEMBL262"
         ],
         "legendgroup": "",
         "line": {
          "color": "rgba(255,255,255,0)"
         },
         "marker": {
          "color": "#636efa"
         },
         "name": "",
         "offsetgroup": "",
         "orientation": "v",
         "pointpos": 0,
         "showlegend": false,
         "type": "box",
         "x": [
          "d_fcn-svm",
          "d_fcn-svm",
          "d_fcn-svm",
          "d_fcn-svm",
          "d_fcn-svm",
          "d_fcn-svm",
          "d_fcn-svm",
          "d_fcn-svm",
          "d_fcn-svm",
          "d_fcn-svm",
          "d_fcn-svm",
          "d_fcn-svm",
          "d_fcn-svm",
          "d_fcn-svm",
          "d_fcn-svm",
          "d_fcn-svm",
          "d_fcn-svm",
          "d_fcn-svm",
          "d_fcn-svm",
          "d_fcn-svm",
          "d_fcn-svm",
          "d_fcn-svm",
          "d_fcn-svm",
          "d_fcn-svm",
          "d_fcn-svm",
          "d_fcn-svm",
          "d_fcn-svm",
          "d_fcn-svm",
          "d_fcn-svm",
          "d_fcn-svm",
          "d_fcn-svm",
          "d_fcn-svm",
          "d_fcn-svm",
          "d_fcn-svm",
          "d_fcn-svm",
          "d_fcn-svm",
          "d_fcn-svm",
          "d_fcn-svm",
          "d_fcn-svm",
          "d_fcn-svm",
          "d_fcn-svm",
          "d_fcn-svm",
          "d_fcn-svm",
          "d_fcn-svm",
          "d_fcn-svm",
          "d_fcn-svm",
          "d_fcn-svm",
          "d_fcn-svm",
          "d_fcn-svm",
          "d_fcn-svm",
          "d_fcn-svm",
          "d_fcn-svm",
          "d_fcn-svm",
          "d_fcn-svm",
          "d_fcn-svm",
          "d_fcn-svm",
          "d_fcn-svm",
          "d_fcn-svm",
          "d_fcn-svm",
          "d_fcn-svm",
          "d_fcn-svm",
          "d_fcn-svm",
          "d_fcn-svm",
          "d_fcn-svm",
          "d_fcn-svm",
          "d_fcn-svm",
          "d_fcn-svm",
          "d_fcn-svm",
          "d_fcn-svm",
          "d_fcn-svm",
          "d_fcn-svm",
          "d_fcn-svm",
          "d_fcn-svm",
          "d_fcn-svm",
          "d_fcn-svm",
          "d_fcn-svm",
          "d_fcn-svm",
          "d_fcn-svm",
          "d_fcn-svm",
          "d_fcn-svm",
          "d_fcn-svm",
          "d_fcn-svm",
          "d_fcn-svm",
          "d_fcn-svm",
          "d_fcn-svm",
          "d_fcn-svm",
          "d_fcn-svm",
          "d_fcn-svm",
          "d_fcn-svm",
          "d_fcn-svm",
          "d_fcn-svm",
          "d_fcn-svm",
          "d_fcn-svm",
          "d_fcn-svm",
          "d_fcn-svm",
          "d_fcn-svm",
          "d_fcn-svm",
          "d_fcn-svm",
          "d_fcn-svm",
          "d_fcn-svm"
         ],
         "x0": " ",
         "xaxis": "x",
         "y": [
          0.03700000000000003,
          0.01100000000000012,
          -0.0010000000000000009,
          -0.07199999999999995,
          -0.03999999999999998,
          0.06299999999999994,
          -0.0010000000000000009,
          -0.08100000000000002,
          -0.051000000000000045,
          0.291,
          0.18199999999999994,
          0.02300000000000002,
          0.123,
          0.02300000000000002,
          -0.08900000000000002,
          0.03599999999999992,
          -0.04400000000000004,
          0.07299999999999995,
          0.09599999999999997,
          -0.10899999999999999,
          0.16799999999999993,
          0.07100000000000006,
          0.016000000000000014,
          -0.03799999999999998,
          0.019000000000000017,
          0.12299999999999994,
          0.009999999999999981,
          -0.038000000000000034,
          0.026000000000000023,
          0.009000000000000008,
          0.11099999999999999,
          0.007000000000000006,
          -0.016000000000000125,
          -0.21900000000000008,
          0.12,
          -0.10199999999999998,
          0.16199999999999992,
          -0.09999999999999998,
          -0.11699999999999999,
          -0.03399999999999992,
          0.28300000000000003,
          -0.04699999999999993,
          -0.007000000000000006,
          -0.06599999999999995,
          -0.35,
          -0.17900000000000005,
          0.09100000000000003,
          0.20299999999999996,
          -0.244,
          -0.19600000000000006,
          -0.016999999999999904,
          0.015999999999999903,
          -0.08099999999999996,
          0.319,
          -0.327,
          -0.04700000000000004,
          -0.1329999999999999,
          0.09800000000000003,
          -0.256,
          -0.214,
          -0.0040000000000000036,
          0.18100000000000002,
          -0.19199999999999995,
          -0.12399999999999994,
          0.051000000000000004,
          0.13599999999999995,
          -0.004,
          0.397,
          -0.262,
          -0.15099999999999997,
          -0.21100000000000008,
          0.052000000000000046,
          0,
          0.12700000000000006,
          0.19300000000000003,
          -0.44799999999999995,
          -0.14400000000000013,
          -0.36900000000000005,
          -0.18700000000000006,
          -0.014000000000000012,
          -0.24600000000000002,
          0.48300000000000004,
          0.10200000000000009,
          0.667,
          0.15100000000000002,
          0.5040000000000001,
          -0.2529999999999999,
          -0.262,
          -0.14299999999999996,
          -0.127,
          0,
          -0.215,
          -0.07200000000000001,
          0.836,
          0.6809999999999999,
          -0.025999999999999995,
          0,
          -0.03,
          -0.035,
          0.605
         ],
         "y0": " ",
         "yaxis": "y"
        }
       ],
       "layout": {
        "boxmode": "group",
        "height": 600,
        "legend": {
         "tracegroupgap": 0
        },
        "margin": {
         "t": 60
        },
        "template": {
         "data": {
          "bar": [
           {
            "error_x": {
             "color": "#2a3f5f"
            },
            "error_y": {
             "color": "#2a3f5f"
            },
            "marker": {
             "line": {
              "color": "#E5ECF6",
              "width": 0.5
             },
             "pattern": {
              "fillmode": "overlay",
              "size": 10,
              "solidity": 0.2
             }
            },
            "type": "bar"
           }
          ],
          "barpolar": [
           {
            "marker": {
             "line": {
              "color": "#E5ECF6",
              "width": 0.5
             },
             "pattern": {
              "fillmode": "overlay",
              "size": 10,
              "solidity": 0.2
             }
            },
            "type": "barpolar"
           }
          ],
          "carpet": [
           {
            "aaxis": {
             "endlinecolor": "#2a3f5f",
             "gridcolor": "white",
             "linecolor": "white",
             "minorgridcolor": "white",
             "startlinecolor": "#2a3f5f"
            },
            "baxis": {
             "endlinecolor": "#2a3f5f",
             "gridcolor": "white",
             "linecolor": "white",
             "minorgridcolor": "white",
             "startlinecolor": "#2a3f5f"
            },
            "type": "carpet"
           }
          ],
          "choropleth": [
           {
            "colorbar": {
             "outlinewidth": 0,
             "ticks": ""
            },
            "type": "choropleth"
           }
          ],
          "contour": [
           {
            "colorbar": {
             "outlinewidth": 0,
             "ticks": ""
            },
            "colorscale": [
             [
              0,
              "#0d0887"
             ],
             [
              0.1111111111111111,
              "#46039f"
             ],
             [
              0.2222222222222222,
              "#7201a8"
             ],
             [
              0.3333333333333333,
              "#9c179e"
             ],
             [
              0.4444444444444444,
              "#bd3786"
             ],
             [
              0.5555555555555556,
              "#d8576b"
             ],
             [
              0.6666666666666666,
              "#ed7953"
             ],
             [
              0.7777777777777778,
              "#fb9f3a"
             ],
             [
              0.8888888888888888,
              "#fdca26"
             ],
             [
              1,
              "#f0f921"
             ]
            ],
            "type": "contour"
           }
          ],
          "contourcarpet": [
           {
            "colorbar": {
             "outlinewidth": 0,
             "ticks": ""
            },
            "type": "contourcarpet"
           }
          ],
          "heatmap": [
           {
            "colorbar": {
             "outlinewidth": 0,
             "ticks": ""
            },
            "colorscale": [
             [
              0,
              "#0d0887"
             ],
             [
              0.1111111111111111,
              "#46039f"
             ],
             [
              0.2222222222222222,
              "#7201a8"
             ],
             [
              0.3333333333333333,
              "#9c179e"
             ],
             [
              0.4444444444444444,
              "#bd3786"
             ],
             [
              0.5555555555555556,
              "#d8576b"
             ],
             [
              0.6666666666666666,
              "#ed7953"
             ],
             [
              0.7777777777777778,
              "#fb9f3a"
             ],
             [
              0.8888888888888888,
              "#fdca26"
             ],
             [
              1,
              "#f0f921"
             ]
            ],
            "type": "heatmap"
           }
          ],
          "heatmapgl": [
           {
            "colorbar": {
             "outlinewidth": 0,
             "ticks": ""
            },
            "colorscale": [
             [
              0,
              "#0d0887"
             ],
             [
              0.1111111111111111,
              "#46039f"
             ],
             [
              0.2222222222222222,
              "#7201a8"
             ],
             [
              0.3333333333333333,
              "#9c179e"
             ],
             [
              0.4444444444444444,
              "#bd3786"
             ],
             [
              0.5555555555555556,
              "#d8576b"
             ],
             [
              0.6666666666666666,
              "#ed7953"
             ],
             [
              0.7777777777777778,
              "#fb9f3a"
             ],
             [
              0.8888888888888888,
              "#fdca26"
             ],
             [
              1,
              "#f0f921"
             ]
            ],
            "type": "heatmapgl"
           }
          ],
          "histogram": [
           {
            "marker": {
             "pattern": {
              "fillmode": "overlay",
              "size": 10,
              "solidity": 0.2
             }
            },
            "type": "histogram"
           }
          ],
          "histogram2d": [
           {
            "colorbar": {
             "outlinewidth": 0,
             "ticks": ""
            },
            "colorscale": [
             [
              0,
              "#0d0887"
             ],
             [
              0.1111111111111111,
              "#46039f"
             ],
             [
              0.2222222222222222,
              "#7201a8"
             ],
             [
              0.3333333333333333,
              "#9c179e"
             ],
             [
              0.4444444444444444,
              "#bd3786"
             ],
             [
              0.5555555555555556,
              "#d8576b"
             ],
             [
              0.6666666666666666,
              "#ed7953"
             ],
             [
              0.7777777777777778,
              "#fb9f3a"
             ],
             [
              0.8888888888888888,
              "#fdca26"
             ],
             [
              1,
              "#f0f921"
             ]
            ],
            "type": "histogram2d"
           }
          ],
          "histogram2dcontour": [
           {
            "colorbar": {
             "outlinewidth": 0,
             "ticks": ""
            },
            "colorscale": [
             [
              0,
              "#0d0887"
             ],
             [
              0.1111111111111111,
              "#46039f"
             ],
             [
              0.2222222222222222,
              "#7201a8"
             ],
             [
              0.3333333333333333,
              "#9c179e"
             ],
             [
              0.4444444444444444,
              "#bd3786"
             ],
             [
              0.5555555555555556,
              "#d8576b"
             ],
             [
              0.6666666666666666,
              "#ed7953"
             ],
             [
              0.7777777777777778,
              "#fb9f3a"
             ],
             [
              0.8888888888888888,
              "#fdca26"
             ],
             [
              1,
              "#f0f921"
             ]
            ],
            "type": "histogram2dcontour"
           }
          ],
          "mesh3d": [
           {
            "colorbar": {
             "outlinewidth": 0,
             "ticks": ""
            },
            "type": "mesh3d"
           }
          ],
          "parcoords": [
           {
            "line": {
             "colorbar": {
              "outlinewidth": 0,
              "ticks": ""
             }
            },
            "type": "parcoords"
           }
          ],
          "pie": [
           {
            "automargin": true,
            "type": "pie"
           }
          ],
          "scatter": [
           {
            "marker": {
             "colorbar": {
              "outlinewidth": 0,
              "ticks": ""
             }
            },
            "type": "scatter"
           }
          ],
          "scatter3d": [
           {
            "line": {
             "colorbar": {
              "outlinewidth": 0,
              "ticks": ""
             }
            },
            "marker": {
             "colorbar": {
              "outlinewidth": 0,
              "ticks": ""
             }
            },
            "type": "scatter3d"
           }
          ],
          "scattercarpet": [
           {
            "marker": {
             "colorbar": {
              "outlinewidth": 0,
              "ticks": ""
             }
            },
            "type": "scattercarpet"
           }
          ],
          "scattergeo": [
           {
            "marker": {
             "colorbar": {
              "outlinewidth": 0,
              "ticks": ""
             }
            },
            "type": "scattergeo"
           }
          ],
          "scattergl": [
           {
            "marker": {
             "colorbar": {
              "outlinewidth": 0,
              "ticks": ""
             }
            },
            "type": "scattergl"
           }
          ],
          "scattermapbox": [
           {
            "marker": {
             "colorbar": {
              "outlinewidth": 0,
              "ticks": ""
             }
            },
            "type": "scattermapbox"
           }
          ],
          "scatterpolar": [
           {
            "marker": {
             "colorbar": {
              "outlinewidth": 0,
              "ticks": ""
             }
            },
            "type": "scatterpolar"
           }
          ],
          "scatterpolargl": [
           {
            "marker": {
             "colorbar": {
              "outlinewidth": 0,
              "ticks": ""
             }
            },
            "type": "scatterpolargl"
           }
          ],
          "scatterternary": [
           {
            "marker": {
             "colorbar": {
              "outlinewidth": 0,
              "ticks": ""
             }
            },
            "type": "scatterternary"
           }
          ],
          "surface": [
           {
            "colorbar": {
             "outlinewidth": 0,
             "ticks": ""
            },
            "colorscale": [
             [
              0,
              "#0d0887"
             ],
             [
              0.1111111111111111,
              "#46039f"
             ],
             [
              0.2222222222222222,
              "#7201a8"
             ],
             [
              0.3333333333333333,
              "#9c179e"
             ],
             [
              0.4444444444444444,
              "#bd3786"
             ],
             [
              0.5555555555555556,
              "#d8576b"
             ],
             [
              0.6666666666666666,
              "#ed7953"
             ],
             [
              0.7777777777777778,
              "#fb9f3a"
             ],
             [
              0.8888888888888888,
              "#fdca26"
             ],
             [
              1,
              "#f0f921"
             ]
            ],
            "type": "surface"
           }
          ],
          "table": [
           {
            "cells": {
             "fill": {
              "color": "#EBF0F8"
             },
             "line": {
              "color": "white"
             }
            },
            "header": {
             "fill": {
              "color": "#C8D4E3"
             },
             "line": {
              "color": "white"
             }
            },
            "type": "table"
           }
          ]
         },
         "layout": {
          "annotationdefaults": {
           "arrowcolor": "#2a3f5f",
           "arrowhead": 0,
           "arrowwidth": 1
          },
          "autotypenumbers": "strict",
          "coloraxis": {
           "colorbar": {
            "outlinewidth": 0,
            "ticks": ""
           }
          },
          "colorscale": {
           "diverging": [
            [
             0,
             "#8e0152"
            ],
            [
             0.1,
             "#c51b7d"
            ],
            [
             0.2,
             "#de77ae"
            ],
            [
             0.3,
             "#f1b6da"
            ],
            [
             0.4,
             "#fde0ef"
            ],
            [
             0.5,
             "#f7f7f7"
            ],
            [
             0.6,
             "#e6f5d0"
            ],
            [
             0.7,
             "#b8e186"
            ],
            [
             0.8,
             "#7fbc41"
            ],
            [
             0.9,
             "#4d9221"
            ],
            [
             1,
             "#276419"
            ]
           ],
           "sequential": [
            [
             0,
             "#0d0887"
            ],
            [
             0.1111111111111111,
             "#46039f"
            ],
            [
             0.2222222222222222,
             "#7201a8"
            ],
            [
             0.3333333333333333,
             "#9c179e"
            ],
            [
             0.4444444444444444,
             "#bd3786"
            ],
            [
             0.5555555555555556,
             "#d8576b"
            ],
            [
             0.6666666666666666,
             "#ed7953"
            ],
            [
             0.7777777777777778,
             "#fb9f3a"
            ],
            [
             0.8888888888888888,
             "#fdca26"
            ],
            [
             1,
             "#f0f921"
            ]
           ],
           "sequentialminus": [
            [
             0,
             "#0d0887"
            ],
            [
             0.1111111111111111,
             "#46039f"
            ],
            [
             0.2222222222222222,
             "#7201a8"
            ],
            [
             0.3333333333333333,
             "#9c179e"
            ],
            [
             0.4444444444444444,
             "#bd3786"
            ],
            [
             0.5555555555555556,
             "#d8576b"
            ],
            [
             0.6666666666666666,
             "#ed7953"
            ],
            [
             0.7777777777777778,
             "#fb9f3a"
            ],
            [
             0.8888888888888888,
             "#fdca26"
            ],
            [
             1,
             "#f0f921"
            ]
           ]
          },
          "colorway": [
           "#636efa",
           "#EF553B",
           "#00cc96",
           "#ab63fa",
           "#FFA15A",
           "#19d3f3",
           "#FF6692",
           "#B6E880",
           "#FF97FF",
           "#FECB52"
          ],
          "font": {
           "color": "#2a3f5f"
          },
          "geo": {
           "bgcolor": "white",
           "lakecolor": "white",
           "landcolor": "#E5ECF6",
           "showlakes": true,
           "showland": true,
           "subunitcolor": "white"
          },
          "hoverlabel": {
           "align": "left"
          },
          "hovermode": "closest",
          "mapbox": {
           "style": "light"
          },
          "paper_bgcolor": "white",
          "plot_bgcolor": "#E5ECF6",
          "polar": {
           "angularaxis": {
            "gridcolor": "white",
            "linecolor": "white",
            "ticks": ""
           },
           "bgcolor": "#E5ECF6",
           "radialaxis": {
            "gridcolor": "white",
            "linecolor": "white",
            "ticks": ""
           }
          },
          "scene": {
           "xaxis": {
            "backgroundcolor": "#E5ECF6",
            "gridcolor": "white",
            "gridwidth": 2,
            "linecolor": "white",
            "showbackground": true,
            "ticks": "",
            "zerolinecolor": "white"
           },
           "yaxis": {
            "backgroundcolor": "#E5ECF6",
            "gridcolor": "white",
            "gridwidth": 2,
            "linecolor": "white",
            "showbackground": true,
            "ticks": "",
            "zerolinecolor": "white"
           },
           "zaxis": {
            "backgroundcolor": "#E5ECF6",
            "gridcolor": "white",
            "gridwidth": 2,
            "linecolor": "white",
            "showbackground": true,
            "ticks": "",
            "zerolinecolor": "white"
           }
          },
          "shapedefaults": {
           "line": {
            "color": "#2a3f5f"
           }
          },
          "ternary": {
           "aaxis": {
            "gridcolor": "white",
            "linecolor": "white",
            "ticks": ""
           },
           "baxis": {
            "gridcolor": "white",
            "linecolor": "white",
            "ticks": ""
           },
           "bgcolor": "#E5ECF6",
           "caxis": {
            "gridcolor": "white",
            "linecolor": "white",
            "ticks": ""
           }
          },
          "title": {
           "x": 0.05
          },
          "xaxis": {
           "automargin": true,
           "gridcolor": "white",
           "linecolor": "white",
           "ticks": "",
           "title": {
            "standoff": 15
           },
           "zerolinecolor": "white",
           "zerolinewidth": 2
          },
          "yaxis": {
           "automargin": true,
           "gridcolor": "white",
           "linecolor": "white",
           "ticks": "",
           "title": {
            "standoff": 15
           },
           "zerolinecolor": "white",
           "zerolinewidth": 2
          }
         }
        },
        "width": 600,
        "xaxis": {
         "anchor": "y",
         "domain": [
          0,
          1
         ],
         "title": {
          "text": "x"
         }
        },
        "yaxis": {
         "anchor": "x",
         "domain": [
          0,
          1
         ],
         "title": {
          "text": "y"
         }
        }
       }
      }
     },
     "metadata": {},
     "output_type": "display_data"
    }
   ],
   "source": [
    "px.strip(data_frame = None,\n",
    "         x          = ['d_fcn-svm']*svm.shape[0],\n",
    "         y          = d_mcc_fcn_svm,\n",
    "         hover_name = list(svm.index),\n",
    "         height     = 600,\n",
    "         width      = 600,\n",
    "         #color      = '#tr',\n",
    "        )"
   ]
  },
  {
   "cell_type": "code",
   "execution_count": 23,
   "metadata": {},
   "outputs": [
    {
     "data": {
      "text/html": [
       "<div>\n",
       "<style scoped>\n",
       "    .dataframe tbody tr th:only-of-type {\n",
       "        vertical-align: middle;\n",
       "    }\n",
       "\n",
       "    .dataframe tbody tr th {\n",
       "        vertical-align: top;\n",
       "    }\n",
       "\n",
       "    .dataframe thead th {\n",
       "        text-align: right;\n",
       "    }\n",
       "</style>\n",
       "<table border=\"1\" class=\"dataframe\">\n",
       "  <thead>\n",
       "    <tr style=\"text-align: right;\">\n",
       "      <th></th>\n",
       "      <th>accuracy</th>\n",
       "      <th>precision</th>\n",
       "      <th>recall</th>\n",
       "      <th>f1</th>\n",
       "      <th>auc_roc</th>\n",
       "      <th>matthews_coeff</th>\n",
       "      <th>#tr</th>\n",
       "      <th>#ac_tr</th>\n",
       "      <th>accuracy_var</th>\n",
       "      <th>precision_var</th>\n",
       "      <th>recall_var</th>\n",
       "      <th>f1_var</th>\n",
       "      <th>auc_roc_var</th>\n",
       "      <th>matthews_coeff_var</th>\n",
       "      <th>#tr_var</th>\n",
       "      <th>#ac_tr_var</th>\n",
       "      <th>model</th>\n",
       "    </tr>\n",
       "  </thead>\n",
       "  <tbody>\n",
       "    <tr>\n",
       "      <th>CHEMBL3018</th>\n",
       "      <td>1.000</td>\n",
       "      <td>1.000</td>\n",
       "      <td>1.000</td>\n",
       "      <td>1.000</td>\n",
       "      <td>1.000</td>\n",
       "      <td>1.000</td>\n",
       "      <td>94.0</td>\n",
       "      <td>8.0</td>\n",
       "      <td>0.000</td>\n",
       "      <td>0.000</td>\n",
       "      <td>0.000</td>\n",
       "      <td>0.000</td>\n",
       "      <td>0.000</td>\n",
       "      <td>0.000</td>\n",
       "      <td>0.0</td>\n",
       "      <td>0.0</td>\n",
       "      <td>fcn</td>\n",
       "    </tr>\n",
       "    <tr>\n",
       "      <th>CHEMBL4072</th>\n",
       "      <td>0.985</td>\n",
       "      <td>0.864</td>\n",
       "      <td>0.935</td>\n",
       "      <td>0.897</td>\n",
       "      <td>0.967</td>\n",
       "      <td>0.891</td>\n",
       "      <td>200.0</td>\n",
       "      <td>15.0</td>\n",
       "      <td>0.000</td>\n",
       "      <td>0.000</td>\n",
       "      <td>0.003</td>\n",
       "      <td>0.001</td>\n",
       "      <td>0.001</td>\n",
       "      <td>0.001</td>\n",
       "      <td>0.0</td>\n",
       "      <td>0.0</td>\n",
       "      <td>fcn</td>\n",
       "    </tr>\n",
       "    <tr>\n",
       "      <th>CHEMBL1800</th>\n",
       "      <td>0.987</td>\n",
       "      <td>0.921</td>\n",
       "      <td>0.873</td>\n",
       "      <td>0.895</td>\n",
       "      <td>0.914</td>\n",
       "      <td>0.889</td>\n",
       "      <td>252.0</td>\n",
       "      <td>15.0</td>\n",
       "      <td>0.000</td>\n",
       "      <td>0.005</td>\n",
       "      <td>0.001</td>\n",
       "      <td>0.001</td>\n",
       "      <td>0.001</td>\n",
       "      <td>0.001</td>\n",
       "      <td>0.0</td>\n",
       "      <td>0.0</td>\n",
       "      <td>fcn</td>\n",
       "    </tr>\n",
       "    <tr>\n",
       "      <th>CHEMBL5407</th>\n",
       "      <td>0.977</td>\n",
       "      <td>0.800</td>\n",
       "      <td>1.000</td>\n",
       "      <td>0.889</td>\n",
       "      <td>0.994</td>\n",
       "      <td>0.883</td>\n",
       "      <td>99.0</td>\n",
       "      <td>10.0</td>\n",
       "      <td>0.000</td>\n",
       "      <td>0.000</td>\n",
       "      <td>0.000</td>\n",
       "      <td>0.000</td>\n",
       "      <td>0.000</td>\n",
       "      <td>0.000</td>\n",
       "      <td>0.0</td>\n",
       "      <td>0.0</td>\n",
       "      <td>fcn</td>\n",
       "    </tr>\n",
       "    <tr>\n",
       "      <th>CHEMBL1741186</th>\n",
       "      <td>0.984</td>\n",
       "      <td>0.922</td>\n",
       "      <td>0.861</td>\n",
       "      <td>0.890</td>\n",
       "      <td>0.996</td>\n",
       "      <td>0.882</td>\n",
       "      <td>117.0</td>\n",
       "      <td>10.0</td>\n",
       "      <td>0.000</td>\n",
       "      <td>0.005</td>\n",
       "      <td>0.016</td>\n",
       "      <td>0.010</td>\n",
       "      <td>0.000</td>\n",
       "      <td>0.012</td>\n",
       "      <td>0.0</td>\n",
       "      <td>0.0</td>\n",
       "      <td>fcn</td>\n",
       "    </tr>\n",
       "    <tr>\n",
       "      <th>...</th>\n",
       "      <td>...</td>\n",
       "      <td>...</td>\n",
       "      <td>...</td>\n",
       "      <td>...</td>\n",
       "      <td>...</td>\n",
       "      <td>...</td>\n",
       "      <td>...</td>\n",
       "      <td>...</td>\n",
       "      <td>...</td>\n",
       "      <td>...</td>\n",
       "      <td>...</td>\n",
       "      <td>...</td>\n",
       "      <td>...</td>\n",
       "      <td>...</td>\n",
       "      <td>...</td>\n",
       "      <td>...</td>\n",
       "      <td>...</td>\n",
       "    </tr>\n",
       "    <tr>\n",
       "      <th>CHEMBL2079846</th>\n",
       "      <td>0.924</td>\n",
       "      <td>0.000</td>\n",
       "      <td>0.000</td>\n",
       "      <td>0.000</td>\n",
       "      <td>0.812</td>\n",
       "      <td>-0.028</td>\n",
       "      <td>79.0</td>\n",
       "      <td>4.0</td>\n",
       "      <td>0.000</td>\n",
       "      <td>0.000</td>\n",
       "      <td>0.000</td>\n",
       "      <td>0.000</td>\n",
       "      <td>0.009</td>\n",
       "      <td>0.001</td>\n",
       "      <td>0.0</td>\n",
       "      <td>0.0</td>\n",
       "      <td>fcn</td>\n",
       "    </tr>\n",
       "    <tr>\n",
       "      <th>CHEMBL208</th>\n",
       "      <td>0.927</td>\n",
       "      <td>0.000</td>\n",
       "      <td>0.000</td>\n",
       "      <td>0.000</td>\n",
       "      <td>0.786</td>\n",
       "      <td>-0.030</td>\n",
       "      <td>51.0</td>\n",
       "      <td>3.0</td>\n",
       "      <td>0.001</td>\n",
       "      <td>0.000</td>\n",
       "      <td>0.000</td>\n",
       "      <td>0.000</td>\n",
       "      <td>0.012</td>\n",
       "      <td>0.001</td>\n",
       "      <td>0.0</td>\n",
       "      <td>0.0</td>\n",
       "      <td>fcn</td>\n",
       "    </tr>\n",
       "    <tr>\n",
       "      <th>CHEMBL235</th>\n",
       "      <td>0.904</td>\n",
       "      <td>0.000</td>\n",
       "      <td>0.000</td>\n",
       "      <td>0.000</td>\n",
       "      <td>0.848</td>\n",
       "      <td>-0.049</td>\n",
       "      <td>83.0</td>\n",
       "      <td>3.0</td>\n",
       "      <td>0.000</td>\n",
       "      <td>0.000</td>\n",
       "      <td>0.000</td>\n",
       "      <td>0.000</td>\n",
       "      <td>0.000</td>\n",
       "      <td>0.000</td>\n",
       "      <td>0.0</td>\n",
       "      <td>0.0</td>\n",
       "      <td>fcn</td>\n",
       "    </tr>\n",
       "    <tr>\n",
       "      <th>CHEMBL203</th>\n",
       "      <td>0.873</td>\n",
       "      <td>0.000</td>\n",
       "      <td>0.000</td>\n",
       "      <td>0.000</td>\n",
       "      <td>0.706</td>\n",
       "      <td>-0.065</td>\n",
       "      <td>48.0</td>\n",
       "      <td>3.0</td>\n",
       "      <td>0.001</td>\n",
       "      <td>0.000</td>\n",
       "      <td>0.000</td>\n",
       "      <td>0.000</td>\n",
       "      <td>0.033</td>\n",
       "      <td>0.000</td>\n",
       "      <td>0.0</td>\n",
       "      <td>0.0</td>\n",
       "      <td>fcn</td>\n",
       "    </tr>\n",
       "    <tr>\n",
       "      <th>CHEMBL2014</th>\n",
       "      <td>0.861</td>\n",
       "      <td>0.000</td>\n",
       "      <td>0.000</td>\n",
       "      <td>0.000</td>\n",
       "      <td>0.607</td>\n",
       "      <td>-0.073</td>\n",
       "      <td>60.0</td>\n",
       "      <td>4.0</td>\n",
       "      <td>0.001</td>\n",
       "      <td>0.000</td>\n",
       "      <td>0.000</td>\n",
       "      <td>0.000</td>\n",
       "      <td>0.005</td>\n",
       "      <td>0.000</td>\n",
       "      <td>0.0</td>\n",
       "      <td>0.0</td>\n",
       "      <td>fcn</td>\n",
       "    </tr>\n",
       "  </tbody>\n",
       "</table>\n",
       "<p>100 rows × 17 columns</p>\n",
       "</div>"
      ],
      "text/plain": [
       "               accuracy  precision  recall     f1  auc_roc  matthews_coeff  \\\n",
       "CHEMBL3018        1.000      1.000   1.000  1.000    1.000           1.000   \n",
       "CHEMBL4072        0.985      0.864   0.935  0.897    0.967           0.891   \n",
       "CHEMBL1800        0.987      0.921   0.873  0.895    0.914           0.889   \n",
       "CHEMBL5407        0.977      0.800   1.000  0.889    0.994           0.883   \n",
       "CHEMBL1741186     0.984      0.922   0.861  0.890    0.996           0.882   \n",
       "...                 ...        ...     ...    ...      ...             ...   \n",
       "CHEMBL2079846     0.924      0.000   0.000  0.000    0.812          -0.028   \n",
       "CHEMBL208         0.927      0.000   0.000  0.000    0.786          -0.030   \n",
       "CHEMBL235         0.904      0.000   0.000  0.000    0.848          -0.049   \n",
       "CHEMBL203         0.873      0.000   0.000  0.000    0.706          -0.065   \n",
       "CHEMBL2014        0.861      0.000   0.000  0.000    0.607          -0.073   \n",
       "\n",
       "                 #tr  #ac_tr  accuracy_var  precision_var  recall_var  f1_var  \\\n",
       "CHEMBL3018      94.0     8.0         0.000          0.000       0.000   0.000   \n",
       "CHEMBL4072     200.0    15.0         0.000          0.000       0.003   0.001   \n",
       "CHEMBL1800     252.0    15.0         0.000          0.005       0.001   0.001   \n",
       "CHEMBL5407      99.0    10.0         0.000          0.000       0.000   0.000   \n",
       "CHEMBL1741186  117.0    10.0         0.000          0.005       0.016   0.010   \n",
       "...              ...     ...           ...            ...         ...     ...   \n",
       "CHEMBL2079846   79.0     4.0         0.000          0.000       0.000   0.000   \n",
       "CHEMBL208       51.0     3.0         0.001          0.000       0.000   0.000   \n",
       "CHEMBL235       83.0     3.0         0.000          0.000       0.000   0.000   \n",
       "CHEMBL203       48.0     3.0         0.001          0.000       0.000   0.000   \n",
       "CHEMBL2014      60.0     4.0         0.001          0.000       0.000   0.000   \n",
       "\n",
       "               auc_roc_var  matthews_coeff_var  #tr_var  #ac_tr_var model  \n",
       "CHEMBL3018           0.000               0.000      0.0         0.0   fcn  \n",
       "CHEMBL4072           0.001               0.001      0.0         0.0   fcn  \n",
       "CHEMBL1800           0.001               0.001      0.0         0.0   fcn  \n",
       "CHEMBL5407           0.000               0.000      0.0         0.0   fcn  \n",
       "CHEMBL1741186        0.000               0.012      0.0         0.0   fcn  \n",
       "...                    ...                 ...      ...         ...   ...  \n",
       "CHEMBL2079846        0.009               0.001      0.0         0.0   fcn  \n",
       "CHEMBL208            0.012               0.001      0.0         0.0   fcn  \n",
       "CHEMBL235            0.000               0.000      0.0         0.0   fcn  \n",
       "CHEMBL203            0.033               0.000      0.0         0.0   fcn  \n",
       "CHEMBL2014           0.005               0.000      0.0         0.0   fcn  \n",
       "\n",
       "[100 rows x 17 columns]"
      ]
     },
     "execution_count": 23,
     "metadata": {},
     "output_type": "execute_result"
    }
   ],
   "source": [
    "fcn.sort_values('matthews_coeff', ascending=False)"
   ]
  },
  {
   "cell_type": "code",
   "execution_count": 24,
   "metadata": {},
   "outputs": [],
   "source": [
    "from rdkit.Chem import Draw\n",
    "from rdkit import Chem\n",
    "from rdkit.Chem.Draw import IPythonConsole"
   ]
  },
  {
   "cell_type": "code",
   "execution_count": 25,
   "metadata": {},
   "outputs": [],
   "source": [
    "def mol_with_atom_index(mol):\n",
    "    for atom in mol.GetAtoms():\n",
    "        atom.SetAtomMapNum(atom.GetIdx())\n",
    "    return mol"
   ]
  },
  {
   "cell_type": "code",
   "execution_count": 26,
   "metadata": {},
   "outputs": [
    {
     "data": {
      "image/png": "[encoded data removed]",
      "text/plain": [
       "<rdkit.Chem.rdchem.Mol at 0x7fc72e0434e0>"
      ]
     },
     "execution_count": 26,
     "metadata": {},
     "output_type": "execute_result"
    }
   ],
   "source": [
    "smi = 'CC(C)N1(~CCc2ccccc2)CC(=O)C(NC(=O)C(Cc2ccccc2)NC(=O)OCc2ccccc2)CC1=O'\n",
    "mol_with_atom_index(Chem.MolFromSmiles(smi))"
   ]
  },
  {
   "cell_type": "code",
   "execution_count": null,
   "metadata": {},
   "outputs": [],
   "source": []
  }
 ],
 "metadata": {
  "interpreter": {
   "hash": "6f7d60dd648d82e5ef4c4f9ba1946e62b6642da77143b0b983cfb14b8b57c97a"
  },
  "kernelspec": {
   "display_name": "Python 3.6.13 64-bit ('rdkit': conda)",
   "language": "python",
   "name": "python3"
  },
  "language_info": {
   "codemirror_mode": {
    "name": "ipython",
    "version": 3
   },
   "file_extension": ".py",
   "mimetype": "text/x-python",
   "name": "python",
   "nbconvert_exporter": "python",
   "pygments_lexer": "ipython3",
   "version": "3.6.13"
  },
  "orig_nbformat": 4
 },
 "nbformat": 4,
 "nbformat_minor": 2
}

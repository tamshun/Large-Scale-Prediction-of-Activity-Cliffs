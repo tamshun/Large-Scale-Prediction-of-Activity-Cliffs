{
 "cells": [
  {
   "cell_type": "code",
   "execution_count": 1,
   "metadata": {},
   "outputs": [],
   "source": [
    "import pandas as pd\n",
    "import numpy as np\n",
    "import os\n",
    "from openeye import oechem\n",
    "from rdkit.Chem import Draw\n",
    "from rdkit import Chem"
   ]
  },
  {
   "cell_type": "code",
   "execution_count": 2,
   "metadata": {},
   "outputs": [],
   "source": [
    "split = 'wodirection_trtssplit'\n",
    "balance = True\n",
    "ml = 'SVM'"
   ]
  },
  {
   "cell_type": "code",
   "execution_count": 7,
   "metadata": {},
   "outputs": [],
   "source": [
    "logdir = './Log_%s/%s/' %(split, ml)\n",
    "scoredir = './Log_%s/%s/' %(split, ml)\n",
    "\n",
    "file_max, mmp_max, prob_max, file_min, mmp_min, prob_min = None, None, -100, None, None, 100\n",
    "\n",
    "for file in os.listdir(logdir):\n",
    "    if file=='Models':\n",
    "        continue\n",
    "    \n",
    "    log = pd.read_csv(logdir+file, sep='\\t', index_col=0)\n",
    "    \n",
    "    prob = np.max(log['prob'])\n",
    "    if prob > prob_max:\n",
    "        file_max = file\n",
    "        idx_max = np.argmax(log['prob'])\n",
    "        mmp_max = log.loc[idx_max, 'ids']\n",
    "        prob_max = prob\n",
    "    \n",
    "    prob = np.min(log['prob'])\n",
    "    if prob < prob_min:\n",
    "        file_min = file\n",
    "        idx_min  = np.argmin(log['prob'])\n",
    "        mmp_min  = log.loc[idx_min, 'ids']\n",
    "        prob_min = prob\n",
    "    \n",
    "\n",
    "data = pd.read_csv('./Dataset/Data/%s.tsv' %(file_max.split('_')[0]), sep='\\t', index_col='id')\n",
    "smi_core = data.loc[mmp_max, 'core'].replace('R1', '*')\n",
    "smi_sub1 = data.loc[mmp_max, 'sub1'].replace('R1', '*')\n",
    "smi_sub2 = data.loc[mmp_max, 'sub2'].replace('R1', '*')\n",
    "\n",
    "mol_core = Chem.MolFromSmiles(smi_core)\n",
    "mol_sub1 = Chem.MolFromSmiles(smi_sub1)\n",
    "mol_sub2 = Chem.MolFromSmiles(smi_sub2)"
   ]
  },
  {
   "cell_type": "code",
   "execution_count": 19,
   "metadata": {},
   "outputs": [
    {
     "ename": "AttributeError",
     "evalue": "'Image' object has no attribute 'save'",
     "output_type": "error",
     "traceback": [
      "\u001b[0;31m---------------------------------------------------------------------------\u001b[0m",
      "\u001b[0;31mAttributeError\u001b[0m                            Traceback (most recent call last)",
      "\u001b[0;32m<ipython-input-19-c1fb86f73dd1>\u001b[0m in \u001b[0;36m<module>\u001b[0;34m\u001b[0m\n\u001b[1;32m      1\u001b[0m \u001b[0mimg\u001b[0m \u001b[0;34m=\u001b[0m \u001b[0mDraw\u001b[0m\u001b[0;34m.\u001b[0m\u001b[0mMolsToGridImage\u001b[0m\u001b[0;34m(\u001b[0m\u001b[0;34m[\u001b[0m\u001b[0mmol_core\u001b[0m\u001b[0;34m,\u001b[0m \u001b[0mmol_sub1\u001b[0m\u001b[0;34m,\u001b[0m \u001b[0mmol_sub2\u001b[0m\u001b[0;34m]\u001b[0m\u001b[0;34m,\u001b[0m \u001b[0msubImgSize\u001b[0m\u001b[0;34m=\u001b[0m\u001b[0;34m(\u001b[0m\u001b[0;36m400\u001b[0m\u001b[0;34m,\u001b[0m\u001b[0;36m200\u001b[0m\u001b[0;34m)\u001b[0m\u001b[0;34m)\u001b[0m\u001b[0;34m\u001b[0m\u001b[0;34m\u001b[0m\u001b[0m\n\u001b[0;32m----> 2\u001b[0;31m \u001b[0mimg\u001b[0m\u001b[0;34m.\u001b[0m\u001b[0msave\u001b[0m\u001b[0;34m(\u001b[0m\u001b[0mscoredir\u001b[0m\u001b[0;34m+\u001b[0m\u001b[0;34m'%s_%s.png'\u001b[0m\u001b[0;34m%\u001b[0m\u001b[0;34m(\u001b[0m\u001b[0mfile_max\u001b[0m\u001b[0;34m.\u001b[0m\u001b[0msplit\u001b[0m\u001b[0;34m(\u001b[0m\u001b[0;34m'_'\u001b[0m\u001b[0;34m)\u001b[0m\u001b[0;34m[\u001b[0m\u001b[0;36m0\u001b[0m\u001b[0;34m]\u001b[0m\u001b[0;34m,\u001b[0m \u001b[0mmmp_max\u001b[0m\u001b[0;34m)\u001b[0m\u001b[0;34m)\u001b[0m\u001b[0;34m\u001b[0m\u001b[0;34m\u001b[0m\u001b[0m\n\u001b[0m",
      "\u001b[0;31mAttributeError\u001b[0m: 'Image' object has no attribute 'save'"
     ]
    }
   ],
   "source": [
    "img = Draw.MolsToGridImage([mol_core, mol_sub1, mol_sub2], subImgSize=(400,200))\n",
    "img.save(scoredir+'%s_%s.png'%(file_max.split('_')[0], mmp_max))"
   ]
  },
  {
   "cell_type": "code",
   "execution_count": 21,
   "metadata": {},
   "outputs": [
    {
     "data": {
      "text/plain": [
       "IPython.core.display.Image"
      ]
     },
     "execution_count": 21,
     "metadata": {},
     "output_type": "execute_result"
    }
   ],
   "source": [
    "type(img)"
   ]
  },
  {
   "cell_type": "code",
   "execution_count": null,
   "metadata": {},
   "outputs": [],
   "source": []
  }
 ],
 "metadata": {
  "interpreter": {
   "hash": "fb5768cf1fa8b6342377f1e0a16a7f0a51a333915102063af4fd5352b3f8a878"
  },
  "kernelspec": {
   "display_name": "Python 3.6.13 64-bit (conda)",
   "language": "python",
   "name": "python3"
  },
  "language_info": {
   "codemirror_mode": {
    "name": "ipython",
    "version": 3
   },
   "file_extension": ".py",
   "mimetype": "text/x-python",
   "name": "python",
   "nbconvert_exporter": "python",
   "pygments_lexer": "ipython3",
   "version": "3.6.13"
  },
  "orig_nbformat": 4
 },
 "nbformat": 4,
 "nbformat_minor": 2
}
